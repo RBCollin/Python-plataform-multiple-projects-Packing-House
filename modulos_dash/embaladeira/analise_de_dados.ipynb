{
 "cells": [
  {
   "cell_type": "code",
   "execution_count": 1,
   "metadata": {},
   "outputs": [
    {
     "name": "stderr",
     "output_type": "stream",
     "text": [
      "2022-07-13 11:51:11.673 INFO    numexpr.utils: NumExpr defaulting to 4 threads.\n"
     ]
    }
   ],
   "source": [
    "from base64 import b16decode\n",
    "from math import ceil\n",
    "from ipython_genutils.py3compat import buffer_to_bytes\n",
    "from requests import HTTPError\n",
    "import streamlit as st\n",
    "import pandas as pd\n",
    "import numpy as np\n",
    "import datetime\n",
    "import time\n",
    "from dateutil.parser import parse\n",
    "from streamlit_option_menu import option_menu\n",
    "import plotly.express as px\n",
    "import plotly.graph_objects as go\n",
    "from torch import true_divide\n",
    "import requests"
   ]
  },
  {
   "cell_type": "markdown",
   "metadata": {},
   "source": [
    "## BASE PRODUTIVIDADE GERAL ANOS"
   ]
  },
  {
   "cell_type": "code",
   "execution_count": 635,
   "metadata": {},
   "outputs": [],
   "source": [
    "\n",
    "data = requests.get(\"http://177.52.21.58:3000/backend/maf/buscarRitmoProducao\")\n",
    "json_data = data.json()\n",
    "df_piv_2=pd.json_normalize(json_data)\n",
    "df_piv_2 = pd.DataFrame.from_dict(df_piv_2)\n",
    "\n",
    "dic = df_piv_2['recordset'][0]\n",
    "\n",
    "item__ = dic[0] \n",
    "df_controle = pd.DataFrame(dic)\n",
    "\n",
    "df_controle['INICIO_PROCESSAMENTO'] = df_controle['INICIO_PROCESSAMENTO'].str.split('.').str[0]\n",
    "df_controle['FIM_PROCESSAMENTO'] = df_controle['FIM_PROCESSAMENTO'].str.split('.').str[0]\n",
    "\n",
    "#df_controle['INICIO_PROCESSAMENTO'] = pd.to_datetime(df_controle['INICIO_PROCESSAMENTO'])\n",
    "#df_controle['FIM_PROCESSAMENTO'] = pd.to_datetime(df_controle['FIM_PROCESSAMENTO'])\n",
    "df = df_controle\n"
   ]
  },
  {
   "cell_type": "code",
   "execution_count": 636,
   "metadata": {},
   "outputs": [],
   "source": [
    "df = df.dropna()"
   ]
  },
  {
   "cell_type": "code",
   "execution_count": 637,
   "metadata": {},
   "outputs": [
    {
     "name": "stderr",
     "output_type": "stream",
     "text": [
      "c:\\Users\\berna\\anaconda3\\lib\\site-packages\\pandas\\core\\frame.py:3607: SettingWithCopyWarning:\n",
      "\n",
      "\n",
      "A value is trying to be set on a copy of a slice from a DataFrame.\n",
      "Try using .loc[row_indexer,col_indexer] = value instead\n",
      "\n",
      "See the caveats in the documentation: https://pandas.pydata.org/pandas-docs/stable/user_guide/indexing.html#returning-a-view-versus-a-copy\n",
      "\n"
     ]
    }
   ],
   "source": [
    " def correcao_variedade(df):\n",
    "    \n",
    "    if df['VARIEDADE'] == 'TOMMY' or df['VARIEDADE'] == 'TONNY' or df['VARIEDADE'] == 'TOOMY' or df['VARIEDADE'] == 'TOOMY ATKINS' or df['VARIEDADE'] == 'TOMMY,'  or df['VARIEDADE'] == 'TOMMY 2' or df['VARIEDADE'] == 'TOMMT' or df['VARIEDADE'] == 'TOMMY01' or df['VARIEDADE'] == 'tommy' or df['VARIEDADE'] == ' TOMMY' or df['VARIEDADE'] == 'TOMMY ' or df['VARIEDADE'] == 'TOMMY ATKINS' or df['VARIEDADE'] == 'TOMMY  ' or df['VARIEDADE'] == '  TOMMY  '  or df['VARIEDADE'] == '  TOMMY':\n",
    "        return 'Tommy'\n",
    "    \n",
    "    elif df['VARIEDADE'] == 'KEITT' or df['VARIEDADE'] == 'KEIT' or df['VARIEDADE'] == 'KEIIT' or df['VARIEDADE'] == 'KEITT.' or df['VARIEDADE'] == 'KEIITT'  or df['VARIEDADE'] == 'KEITT ' or df['VARIEDADE'] == ' KEITT' or df['VARIEDADE'] == 'KEITT  ' or df['VARIEDADE'] == '  KEITT  ' or df['VARIEDADE'] == '  KEITT' or df['VARIEDADE'] == ' KEITT ':\n",
    "        return 'Keitt'\n",
    "\n",
    "    elif df['VARIEDADE'] == 'OALMER' or df['VARIEDADE'] == 'PAMER' or df['VARIEDADE'] == 'PALMER' or df['VARIEDADE'] == 'PALMER' or df['VARIEDADE'] == 'PALMER '  or df['VARIEDADE'] == ' PALMER ' or df['VARIEDADE'] == ' PALER' or df['VARIEDADE'] == ' PALER ' or df['VARIEDADE'] == ' PALER' or df['VARIEDADE'] == 'PALER ': \n",
    "        return 'Palmer'\n",
    "\n",
    "    else:\n",
    "        return 'remover' \n",
    "\n",
    "df['VARIEDADE'] = df.apply(correcao_variedade, axis = 1)"
   ]
  },
  {
   "cell_type": "code",
   "execution_count": 638,
   "metadata": {},
   "outputs": [
    {
     "data": {
      "text/html": [
       "<div>\n",
       "<style scoped>\n",
       "    .dataframe tbody tr th:only-of-type {\n",
       "        vertical-align: middle;\n",
       "    }\n",
       "\n",
       "    .dataframe tbody tr th {\n",
       "        vertical-align: top;\n",
       "    }\n",
       "\n",
       "    .dataframe thead th {\n",
       "        text-align: right;\n",
       "    }\n",
       "</style>\n",
       "<table border=\"1\" class=\"dataframe\">\n",
       "  <thead>\n",
       "    <tr style=\"text-align: right;\">\n",
       "      <th></th>\n",
       "      <th>CONTROLE_MEGA</th>\n",
       "      <th>CONTROLE_MAF</th>\n",
       "      <th>PESO_PROCESSADO</th>\n",
       "      <th>INICIO_PROCESSAMENTO</th>\n",
       "      <th>FIM_PROCESSAMENTO</th>\n",
       "      <th>HORAS_PROCESSAMENTO</th>\n",
       "      <th>TON_HORA</th>\n",
       "      <th>VARIEDADE</th>\n",
       "    </tr>\n",
       "  </thead>\n",
       "  <tbody>\n",
       "    <tr>\n",
       "      <th>0</th>\n",
       "      <td>687</td>\n",
       "      <td>33049</td>\n",
       "      <td>8090.962</td>\n",
       "      <td>2022-07-12T15:43:43</td>\n",
       "      <td>2022-07-12T16:13:09</td>\n",
       "      <td>0.50</td>\n",
       "      <td>16.18</td>\n",
       "      <td>Keitt</td>\n",
       "    </tr>\n",
       "    <tr>\n",
       "      <th>1</th>\n",
       "      <td>685</td>\n",
       "      <td>33048</td>\n",
       "      <td>3300.935</td>\n",
       "      <td>2022-07-12T15:10:04</td>\n",
       "      <td>2022-07-12T15:43:44</td>\n",
       "      <td>0.55</td>\n",
       "      <td>6.00</td>\n",
       "      <td>Keitt</td>\n",
       "    </tr>\n",
       "    <tr>\n",
       "      <th>2</th>\n",
       "      <td>684</td>\n",
       "      <td>33047</td>\n",
       "      <td>22248.155</td>\n",
       "      <td>2022-07-12T13:57:16</td>\n",
       "      <td>2022-07-12T15:10:06</td>\n",
       "      <td>1.22</td>\n",
       "      <td>18.24</td>\n",
       "      <td>Keitt</td>\n",
       "    </tr>\n",
       "    <tr>\n",
       "      <th>3</th>\n",
       "      <td>681</td>\n",
       "      <td>33046</td>\n",
       "      <td>29126.152</td>\n",
       "      <td>2022-07-12T11:04:22</td>\n",
       "      <td>2022-07-12T13:57:18</td>\n",
       "      <td>2.88</td>\n",
       "      <td>10.11</td>\n",
       "      <td>Keitt</td>\n",
       "    </tr>\n",
       "    <tr>\n",
       "      <th>4</th>\n",
       "      <td>683</td>\n",
       "      <td>33045</td>\n",
       "      <td>8224.589</td>\n",
       "      <td>2022-07-12T10:29:21</td>\n",
       "      <td>2022-07-12T11:04:24</td>\n",
       "      <td>0.58</td>\n",
       "      <td>14.18</td>\n",
       "      <td>Keitt</td>\n",
       "    </tr>\n",
       "    <tr>\n",
       "      <th>...</th>\n",
       "      <td>...</td>\n",
       "      <td>...</td>\n",
       "      <td>...</td>\n",
       "      <td>...</td>\n",
       "      <td>...</td>\n",
       "      <td>...</td>\n",
       "      <td>...</td>\n",
       "      <td>...</td>\n",
       "    </tr>\n",
       "    <tr>\n",
       "      <th>1549</th>\n",
       "      <td>2262</td>\n",
       "      <td>31220</td>\n",
       "      <td>6803.169</td>\n",
       "      <td>2021-01-05T14:24:28</td>\n",
       "      <td>2021-01-05T14:48:57</td>\n",
       "      <td>0.40</td>\n",
       "      <td>17.01</td>\n",
       "      <td>Keitt</td>\n",
       "    </tr>\n",
       "    <tr>\n",
       "      <th>1550</th>\n",
       "      <td>2259</td>\n",
       "      <td>31219</td>\n",
       "      <td>20470.672</td>\n",
       "      <td>2021-01-05T12:07:34</td>\n",
       "      <td>2021-01-05T14:24:33</td>\n",
       "      <td>2.28</td>\n",
       "      <td>8.98</td>\n",
       "      <td>Keitt</td>\n",
       "    </tr>\n",
       "    <tr>\n",
       "      <th>1551</th>\n",
       "      <td>2256</td>\n",
       "      <td>31218</td>\n",
       "      <td>29054.045</td>\n",
       "      <td>2021-01-05T10:30:51</td>\n",
       "      <td>2021-01-05T12:07:39</td>\n",
       "      <td>1.62</td>\n",
       "      <td>17.93</td>\n",
       "      <td>Keitt</td>\n",
       "    </tr>\n",
       "    <tr>\n",
       "      <th>1552</th>\n",
       "      <td>2</td>\n",
       "      <td>31217</td>\n",
       "      <td>12655.951</td>\n",
       "      <td>2021-01-05T09:13:48</td>\n",
       "      <td>2021-01-05T10:30:53</td>\n",
       "      <td>1.28</td>\n",
       "      <td>9.89</td>\n",
       "      <td>Tommy</td>\n",
       "    </tr>\n",
       "    <tr>\n",
       "      <th>1553</th>\n",
       "      <td>2258</td>\n",
       "      <td>31216</td>\n",
       "      <td>6377.894</td>\n",
       "      <td>2021-01-05T08:29:08</td>\n",
       "      <td>2021-01-05T09:13:50</td>\n",
       "      <td>0.73</td>\n",
       "      <td>8.74</td>\n",
       "      <td>Tommy</td>\n",
       "    </tr>\n",
       "  </tbody>\n",
       "</table>\n",
       "<p>1540 rows × 8 columns</p>\n",
       "</div>"
      ],
      "text/plain": [
       "      CONTROLE_MEGA  CONTROLE_MAF  PESO_PROCESSADO INICIO_PROCESSAMENTO  \\\n",
       "0               687         33049         8090.962  2022-07-12T15:43:43   \n",
       "1               685         33048         3300.935  2022-07-12T15:10:04   \n",
       "2               684         33047        22248.155  2022-07-12T13:57:16   \n",
       "3               681         33046        29126.152  2022-07-12T11:04:22   \n",
       "4               683         33045         8224.589  2022-07-12T10:29:21   \n",
       "...             ...           ...              ...                  ...   \n",
       "1549           2262         31220         6803.169  2021-01-05T14:24:28   \n",
       "1550           2259         31219        20470.672  2021-01-05T12:07:34   \n",
       "1551           2256         31218        29054.045  2021-01-05T10:30:51   \n",
       "1552              2         31217        12655.951  2021-01-05T09:13:48   \n",
       "1553           2258         31216         6377.894  2021-01-05T08:29:08   \n",
       "\n",
       "        FIM_PROCESSAMENTO  HORAS_PROCESSAMENTO  TON_HORA VARIEDADE  \n",
       "0     2022-07-12T16:13:09                 0.50     16.18     Keitt  \n",
       "1     2022-07-12T15:43:44                 0.55      6.00     Keitt  \n",
       "2     2022-07-12T15:10:06                 1.22     18.24     Keitt  \n",
       "3     2022-07-12T13:57:18                 2.88     10.11     Keitt  \n",
       "4     2022-07-12T11:04:24                 0.58     14.18     Keitt  \n",
       "...                   ...                  ...       ...       ...  \n",
       "1549  2021-01-05T14:48:57                 0.40     17.01     Keitt  \n",
       "1550  2021-01-05T14:24:33                 2.28      8.98     Keitt  \n",
       "1551  2021-01-05T12:07:39                 1.62     17.93     Keitt  \n",
       "1552  2021-01-05T10:30:53                 1.28      9.89     Tommy  \n",
       "1553  2021-01-05T09:13:50                 0.73      8.74     Tommy  \n",
       "\n",
       "[1540 rows x 8 columns]"
      ]
     },
     "execution_count": 638,
     "metadata": {},
     "output_type": "execute_result"
    }
   ],
   "source": [
    "df"
   ]
  },
  {
   "cell_type": "code",
   "execution_count": 639,
   "metadata": {},
   "outputs": [],
   "source": [
    "filtro_osteen = df['VARIEDADE'] != 'remover'\n",
    "df = df[filtro_osteen]"
   ]
  },
  {
   "cell_type": "code",
   "execution_count": 640,
   "metadata": {},
   "outputs": [
    {
     "name": "stderr",
     "output_type": "stream",
     "text": [
      "c:\\Users\\berna\\anaconda3\\lib\\site-packages\\pandas\\core\\frame.py:3607: SettingWithCopyWarning:\n",
      "\n",
      "\n",
      "A value is trying to be set on a copy of a slice from a DataFrame.\n",
      "Try using .loc[row_indexer,col_indexer] = value instead\n",
      "\n",
      "See the caveats in the documentation: https://pandas.pydata.org/pandas-docs/stable/user_guide/indexing.html#returning-a-view-versus-a-copy\n",
      "\n"
     ]
    }
   ],
   "source": [
    "df['DATA'] = df['INICIO_PROCESSAMENTO'].str.split('T').str[0]\n",
    "df['ANO'] = df['DATA'].str.split('-').str[0]\n",
    "df['MES'] = df['DATA'].str.split('-').str[1]\n",
    "df['DIA'] = df['DATA'].str.split('-').str[2]"
   ]
  },
  {
   "cell_type": "code",
   "execution_count": 642,
   "metadata": {},
   "outputs": [
    {
     "name": "stderr",
     "output_type": "stream",
     "text": [
      "c:\\Users\\berna\\anaconda3\\lib\\site-packages\\pandas\\core\\frame.py:3607: SettingWithCopyWarning:\n",
      "\n",
      "\n",
      "A value is trying to be set on a copy of a slice from a DataFrame.\n",
      "Try using .loc[row_indexer,col_indexer] = value instead\n",
      "\n",
      "See the caveats in the documentation: https://pandas.pydata.org/pandas-docs/stable/user_guide/indexing.html#returning-a-view-versus-a-copy\n",
      "\n"
     ]
    }
   ],
   "source": [
    "df['MES'] = df['MES'].astype(int)\n",
    "df['DIA'] = df['DIA'].astype(int)"
   ]
  },
  {
   "cell_type": "code",
   "execution_count": 643,
   "metadata": {},
   "outputs": [],
   "source": [
    "def remocao_mes(df):\n",
    "    if df['MES'] == 4 or df['MES'] == 5 or df['MES'] == 6 or df['MES'] == 7:\n",
    "        return 'manter'\n",
    "    else:\n",
    "        return 'remover'\n",
    "\n",
    "df['out'] = df.apply(remocao_mes, axis = 1)"
   ]
  },
  {
   "cell_type": "code",
   "execution_count": 644,
   "metadata": {},
   "outputs": [],
   "source": [
    "df_filtro  = df['out'] == 'manter'\n",
    "df = df[df_filtro]\n",
    "        "
   ]
  },
  {
   "cell_type": "code",
   "execution_count": 645,
   "metadata": {},
   "outputs": [],
   "source": [
    "df_piv_dia_mes = pd.pivot_table(df, index = ['ANO','MES','DIA','VARIEDADE'], values = 'TON_HORA',aggfunc = np.mean)\n",
    "df_piv_dia_mes = df_piv_dia_mes.reset_index()"
   ]
  },
  {
   "cell_type": "code",
   "execution_count": 648,
   "metadata": {},
   "outputs": [
    {
     "name": "stderr",
     "output_type": "stream",
     "text": [
      "c:\\Users\\berna\\anaconda3\\lib\\site-packages\\pandas\\core\\frame.py:3607: SettingWithCopyWarning:\n",
      "\n",
      "\n",
      "A value is trying to be set on a copy of a slice from a DataFrame.\n",
      "Try using .loc[row_indexer,col_indexer] = value instead\n",
      "\n",
      "See the caveats in the documentation: https://pandas.pydata.org/pandas-docs/stable/user_guide/indexing.html#returning-a-view-versus-a-copy\n",
      "\n"
     ]
    },
    {
     "data": {
      "application/vnd.plotly.v1+json": {
       "config": {
        "plotlyServerURL": "https://plot.ly"
       },
       "data": [
        {
         "alignmentgroup": "True",
         "boxpoints": "all",
         "customdata": [
          [
           687
          ],
          [
           685
          ],
          [
           684
          ],
          [
           681
          ],
          [
           683
          ],
          [
           682
          ],
          [
           680
          ],
          [
           673
          ],
          [
           669
          ],
          [
           668
          ],
          [
           664
          ],
          [
           667
          ],
          [
           663
          ],
          [
           666
          ],
          [
           665
          ],
          [
           657
          ],
          [
           662
          ],
          [
           655
          ],
          [
           654
          ],
          [
           650
          ],
          [
           650
          ],
          [
           644
          ],
          [
           643
          ],
          [
           638
          ],
          [
           640
          ],
          [
           640
          ],
          [
           639
          ],
          [
           635
          ],
          [
           636
          ],
          [
           630
          ],
          [
           634
          ],
          [
           627
          ],
          [
           626
          ],
          [
           632
          ],
          [
           628
          ],
          [
           624
          ],
          [
           620
          ],
          [
           618
          ],
          [
           625
          ],
          [
           611
          ],
          [
           604
          ],
          [
           603
          ],
          [
           602
          ],
          [
           599
          ],
          [
           600
          ],
          [
           598
          ],
          [
           597
          ],
          [
           596
          ],
          [
           593
          ],
          [
           589
          ],
          [
           594
          ],
          [
           592
          ],
          [
           588
          ],
          [
           587
          ],
          [
           581
          ],
          [
           568
          ],
          [
           570
          ],
          [
           564
          ],
          [
           563
          ],
          [
           558
          ],
          [
           557
          ],
          [
           560
          ],
          [
           556
          ],
          [
           547
          ],
          [
           546
          ],
          [
           544
          ],
          [
           545
          ],
          [
           543
          ],
          [
           521
          ],
          [
           519
          ],
          [
           514
          ],
          [
           517
          ],
          [
           510
          ],
          [
           508
          ],
          [
           506
          ],
          [
           504
          ],
          [
           501
          ],
          [
           494
          ],
          [
           495
          ],
          [
           500
          ],
          [
           483
          ],
          [
           475
          ],
          [
           472
          ],
          [
           468
          ],
          [
           465
          ],
          [
           463
          ],
          [
           461
          ],
          [
           454
          ],
          [
           453
          ],
          [
           456
          ],
          [
           452
          ],
          [
           450
          ],
          [
           451
          ],
          [
           443
          ],
          [
           438
          ],
          [
           439
          ],
          [
           433
          ],
          [
           436
          ],
          [
           430
          ],
          [
           425
          ],
          [
           426
          ],
          [
           424
          ],
          [
           422
          ],
          [
           417
          ],
          [
           412
          ],
          [
           403
          ],
          [
           398
          ],
          [
           395
          ],
          [
           389
          ],
          [
           383
          ],
          [
           387
          ],
          [
           384
          ],
          [
           384
          ],
          [
           381
          ],
          [
           379
          ],
          [
           380
          ],
          [
           376
          ],
          [
           361
          ],
          [
           357
          ],
          [
           354
          ],
          [
           355
          ],
          [
           353
          ],
          [
           351
          ],
          [
           350
          ],
          [
           343
          ],
          [
           340
          ],
          [
           344
          ],
          [
           337
          ],
          [
           306
          ],
          [
           303
          ],
          [
           302
          ],
          [
           300
          ],
          [
           293
          ],
          [
           283
          ],
          [
           286
          ],
          [
           279
          ],
          [
           280
          ],
          [
           277
          ],
          [
           275
          ],
          [
           268
          ],
          [
           264
          ],
          [
           263
          ],
          [
           258
          ],
          [
           259
          ],
          [
           260
          ],
          [
           254
          ],
          [
           249
          ],
          [
           246
          ],
          [
           248
          ]
         ],
         "hovertemplate": "<b>%{hovertext}</b><br><br>ANO=2022<br>VARIEDADE=Keitt<br>MES=%{x}<br>TON_HORA=%{y}<br>CONTROLE_MEGA=%{customdata[0]}<extra></extra>",
         "hovertext": [
          12,
          12,
          12,
          12,
          12,
          12,
          12,
          7,
          7,
          7,
          7,
          7,
          7,
          7,
          7,
          7,
          6,
          6,
          6,
          6,
          5,
          30,
          30,
          30,
          30,
          30,
          30,
          29,
          29,
          29,
          29,
          29,
          29,
          29,
          29,
          28,
          28,
          28,
          28,
          23,
          22,
          22,
          22,
          22,
          22,
          22,
          21,
          21,
          21,
          21,
          21,
          21,
          20,
          20,
          17,
          16,
          16,
          15,
          15,
          15,
          15,
          15,
          15,
          14,
          14,
          14,
          14,
          13,
          9,
          9,
          9,
          9,
          8,
          8,
          8,
          8,
          8,
          7,
          7,
          7,
          3,
          2,
          2,
          1,
          1,
          31,
          31,
          31,
          31,
          31,
          31,
          26,
          26,
          24,
          24,
          24,
          23,
          23,
          23,
          23,
          23,
          22,
          22,
          22,
          21,
          20,
          20,
          19,
          18,
          18,
          18,
          17,
          17,
          17,
          17,
          17,
          14,
          12,
          12,
          11,
          11,
          11,
          10,
          10,
          10,
          10,
          10,
          6,
          28,
          28,
          28,
          28,
          26,
          19,
          19,
          19,
          19,
          19,
          18,
          14,
          14,
          14,
          13,
          13,
          13,
          13,
          12,
          12,
          12
         ],
         "legendgroup": "2022",
         "marker": {
          "color": "#636efa"
         },
         "name": "2022",
         "notched": false,
         "offsetgroup": "2022",
         "orientation": "v",
         "showlegend": true,
         "type": "box",
         "x": [
          7,
          7,
          7,
          7,
          7,
          7,
          7,
          7,
          7,
          7,
          7,
          7,
          7,
          7,
          7,
          7,
          7,
          7,
          7,
          7,
          7,
          6,
          6,
          6,
          6,
          6,
          6,
          6,
          6,
          6,
          6,
          6,
          6,
          6,
          6,
          6,
          6,
          6,
          6,
          6,
          6,
          6,
          6,
          6,
          6,
          6,
          6,
          6,
          6,
          6,
          6,
          6,
          6,
          6,
          6,
          6,
          6,
          6,
          6,
          6,
          6,
          6,
          6,
          6,
          6,
          6,
          6,
          6,
          6,
          6,
          6,
          6,
          6,
          6,
          6,
          6,
          6,
          6,
          6,
          6,
          6,
          6,
          6,
          6,
          6,
          5,
          5,
          5,
          5,
          5,
          5,
          5,
          5,
          5,
          5,
          5,
          5,
          5,
          5,
          5,
          5,
          5,
          5,
          5,
          5,
          5,
          5,
          5,
          5,
          5,
          5,
          5,
          5,
          5,
          5,
          5,
          5,
          5,
          5,
          5,
          5,
          5,
          5,
          5,
          5,
          5,
          5,
          5,
          4,
          4,
          4,
          4,
          4,
          4,
          4,
          4,
          4,
          4,
          4,
          4,
          4,
          4,
          4,
          4,
          4,
          4,
          4,
          4,
          4
         ],
         "x0": " ",
         "xaxis": "x3",
         "y": [
          16.18,
          6,
          18.24,
          10.11,
          14.18,
          11.91,
          14.68,
          13.45,
          21.55,
          4.3,
          18.8,
          14.19,
          19.65,
          22.51,
          24.12,
          9.55,
          5.72,
          13.12,
          8.49,
          15.98,
          17.45,
          9.9,
          21.51,
          24.83,
          18.78,
          0.61,
          13.13,
          17.72,
          23.05,
          18.48,
          16.79,
          19.52,
          20.73,
          10.17,
          13.61,
          15.77,
          17.23,
          12.6,
          14.99,
          17.56,
          14.16,
          11.48,
          15.81,
          16.34,
          14.15,
          20.1,
          26.37,
          21.85,
          9.15,
          20.46,
          18.67,
          12.66,
          10.51,
          13.3,
          9.56,
          15.4,
          24.58,
          16.43,
          19.17,
          23.76,
          25.74,
          23.89,
          10.16,
          20.17,
          14.36,
          11.62,
          18.96,
          16.69,
          19.22,
          19.42,
          19.83,
          21.74,
          13.51,
          14.76,
          18.7,
          17.65,
          9.33,
          16.57,
          17.81,
          18.11,
          19.94,
          17.77,
          16.77,
          20.87,
          20.24,
          21.52,
          16.49,
          17.18,
          20.6,
          16.55,
          23.12,
          21.64,
          4.46,
          18.11,
          11.79,
          18.71,
          19.38,
          12.16,
          5.07,
          22.34,
          18.24,
          24.65,
          7.47,
          25.04,
          21.79,
          8.02,
          18.19,
          16.6,
          13.53,
          8.75,
          13.07,
          19.36,
          2.56,
          15.4,
          11.08,
          14.66,
          12.56,
          16.11,
          19.15,
          16.16,
          19.07,
          19.09,
          18.32,
          12.93,
          8.73,
          17.69,
          13.8,
          13.45,
          19.35,
          9.91,
          17.61,
          6.67,
          14.32,
          15.36,
          14.98,
          14.3,
          17.58,
          14.76,
          13.01,
          6.75,
          14.49,
          15.28,
          16.43,
          15.74,
          15.53,
          14.65,
          11.06,
          6.1,
          13.61
         ],
         "y0": " ",
         "yaxis": "y3"
        },
        {
         "alignmentgroup": "True",
         "boxpoints": "all",
         "customdata": [
          [
           679
          ],
          [
           678
          ],
          [
           676
          ],
          [
           675
          ],
          [
           672
          ],
          [
           659
          ],
          [
           661
          ],
          [
           658
          ],
          [
           653
          ],
          [
           649
          ],
          [
           648
          ],
          [
           646
          ],
          [
           642
          ],
          [
           641
          ],
          [
           633
          ],
          [
           629
          ],
          [
           623
          ],
          [
           621
          ],
          [
           617
          ],
          [
           614
          ],
          [
           613
          ],
          [
           610
          ],
          [
           607
          ],
          [
           605
          ],
          [
           583
          ],
          [
           585
          ],
          [
           580
          ],
          [
           577
          ],
          [
           579
          ],
          [
           571
          ],
          [
           574
          ],
          [
           559
          ],
          [
           561
          ],
          [
           553
          ],
          [
           551
          ],
          [
           552
          ],
          [
           549
          ],
          [
           548
          ],
          [
           542
          ],
          [
           541
          ],
          [
           540
          ],
          [
           534
          ],
          [
           532
          ],
          [
           536
          ],
          [
           538
          ],
          [
           537
          ],
          [
           535
          ],
          [
           524
          ],
          [
           529
          ],
          [
           520
          ],
          [
           527
          ],
          [
           522
          ],
          [
           516
          ],
          [
           512
          ],
          [
           511
          ],
          [
           515
          ],
          [
           507
          ],
          [
           502
          ],
          [
           503
          ],
          [
           497
          ],
          [
           489
          ],
          [
           493
          ],
          [
           493
          ],
          [
           490
          ],
          [
           490
          ],
          [
           492
          ],
          [
           484
          ],
          [
           485
          ],
          [
           482
          ],
          [
           479
          ],
          [
           481
          ],
          [
           478
          ],
          [
           470
          ],
          [
           469
          ],
          [
           477
          ],
          [
           473
          ],
          [
           476
          ],
          [
           467
          ],
          [
           466
          ],
          [
           462
          ],
          [
           457
          ],
          [
           460
          ],
          [
           458
          ],
          [
           455
          ],
          [
           449
          ],
          [
           448
          ],
          [
           441
          ],
          [
           442
          ],
          [
           444
          ],
          [
           440
          ],
          [
           434
          ],
          [
           437
          ],
          [
           435
          ],
          [
           431
          ],
          [
           427
          ],
          [
           423
          ],
          [
           420
          ],
          [
           409
          ],
          [
           416
          ],
          [
           415
          ],
          [
           409
          ],
          [
           413
          ],
          [
           410
          ],
          [
           411
          ],
          [
           406
          ],
          [
           404
          ],
          [
           405
          ],
          [
           400
          ],
          [
           402
          ],
          [
           408
          ],
          [
           401
          ],
          [
           397
          ],
          [
           394
          ],
          [
           392
          ],
          [
           388
          ],
          [
           385
          ],
          [
           382
          ],
          [
           377
          ],
          [
           373
          ],
          [
           375
          ],
          [
           371
          ],
          [
           368
          ],
          [
           369
          ],
          [
           366
          ],
          [
           360
          ],
          [
           358
          ],
          [
           358
          ],
          [
           356
          ],
          [
           352
          ],
          [
           347
          ],
          [
           346
          ],
          [
           342
          ],
          [
           341
          ],
          [
           339
          ],
          [
           338
          ],
          [
           336
          ],
          [
           334
          ],
          [
           316
          ],
          [
           314
          ],
          [
           312
          ],
          [
           310
          ],
          [
           309
          ],
          [
           305
          ],
          [
           305
          ],
          [
           307
          ],
          [
           301
          ],
          [
           299
          ],
          [
           297
          ],
          [
           298
          ],
          [
           296
          ],
          [
           295
          ],
          [
           292
          ],
          [
           289
          ],
          [
           287
          ],
          [
           278
          ],
          [
           271
          ],
          [
           270
          ],
          [
           269
          ],
          [
           266
          ],
          [
           267
          ],
          [
           257
          ],
          [
           265
          ],
          [
           257
          ],
          [
           261
          ],
          [
           252
          ],
          [
           255
          ],
          [
           247
          ],
          [
           247
          ]
         ],
         "hovertemplate": "<b>%{hovertext}</b><br><br>ANO=2022<br>VARIEDADE=Tommy<br>MES=%{x}<br>TON_HORA=%{y}<br>CONTROLE_MEGA=%{customdata[0]}<extra></extra>",
         "hovertext": [
          12,
          8,
          8,
          8,
          8,
          6,
          6,
          6,
          6,
          1,
          1,
          30,
          30,
          30,
          29,
          29,
          28,
          28,
          23,
          23,
          23,
          23,
          23,
          22,
          17,
          17,
          17,
          17,
          17,
          16,
          16,
          15,
          15,
          14,
          14,
          14,
          14,
          14,
          13,
          13,
          13,
          11,
          11,
          11,
          11,
          11,
          11,
          11,
          11,
          10,
          10,
          10,
          9,
          9,
          9,
          9,
          8,
          8,
          8,
          7,
          4,
          4,
          4,
          4,
          4,
          4,
          3,
          3,
          3,
          3,
          3,
          3,
          2,
          2,
          2,
          2,
          2,
          1,
          1,
          1,
          1,
          1,
          1,
          31,
          26,
          25,
          25,
          24,
          24,
          24,
          24,
          24,
          24,
          23,
          23,
          22,
          22,
          22,
          21,
          21,
          21,
          21,
          20,
          20,
          20,
          20,
          20,
          20,
          20,
          20,
          20,
          19,
          19,
          19,
          18,
          18,
          17,
          17,
          14,
          14,
          13,
          13,
          13,
          13,
          12,
          12,
          11,
          11,
          11,
          11,
          11,
          10,
          10,
          6,
          6,
          6,
          6,
          3,
          3,
          3,
          29,
          29,
          28,
          28,
          28,
          28,
          28,
          27,
          27,
          27,
          27,
          26,
          19,
          19,
          19,
          18,
          14,
          14,
          14,
          14,
          14,
          14,
          13,
          13,
          13,
          13,
          12,
          12
         ],
         "legendgroup": "2022",
         "marker": {
          "color": "#636efa"
         },
         "name": "2022",
         "notched": false,
         "offsetgroup": "2022",
         "orientation": "v",
         "showlegend": false,
         "type": "box",
         "x": [
          7,
          7,
          7,
          7,
          7,
          7,
          7,
          7,
          7,
          7,
          7,
          6,
          6,
          6,
          6,
          6,
          6,
          6,
          6,
          6,
          6,
          6,
          6,
          6,
          6,
          6,
          6,
          6,
          6,
          6,
          6,
          6,
          6,
          6,
          6,
          6,
          6,
          6,
          6,
          6,
          6,
          6,
          6,
          6,
          6,
          6,
          6,
          6,
          6,
          6,
          6,
          6,
          6,
          6,
          6,
          6,
          6,
          6,
          6,
          6,
          6,
          6,
          6,
          6,
          6,
          6,
          6,
          6,
          6,
          6,
          6,
          6,
          6,
          6,
          6,
          6,
          6,
          6,
          6,
          6,
          6,
          6,
          6,
          5,
          5,
          5,
          5,
          5,
          5,
          5,
          5,
          5,
          5,
          5,
          5,
          5,
          5,
          5,
          5,
          5,
          5,
          5,
          5,
          5,
          5,
          5,
          5,
          5,
          5,
          5,
          5,
          5,
          5,
          5,
          5,
          5,
          5,
          5,
          5,
          5,
          5,
          5,
          5,
          5,
          5,
          5,
          5,
          5,
          5,
          5,
          5,
          5,
          5,
          5,
          5,
          5,
          5,
          5,
          5,
          5,
          4,
          4,
          4,
          4,
          4,
          4,
          4,
          4,
          4,
          4,
          4,
          4,
          4,
          4,
          4,
          4,
          4,
          4,
          4,
          4,
          4,
          4,
          4,
          4,
          4,
          4,
          4,
          4
         ],
         "x0": " ",
         "xaxis": "x2",
         "y": [
          9.3,
          12.05,
          4.45,
          9.34,
          11.82,
          5.02,
          7.19,
          9.93,
          10.53,
          11.78,
          15.13,
          13.55,
          11.24,
          8.09,
          4.03,
          13.34,
          5.35,
          14.19,
          10.41,
          12.9,
          14.32,
          12.31,
          13.78,
          12.94,
          15.91,
          15.2,
          13.08,
          14.63,
          10.16,
          15.5,
          10.28,
          14.81,
          10.69,
          11.28,
          10.26,
          8.57,
          11.67,
          11.65,
          5.39,
          9.3,
          7.64,
          13.36,
          9.58,
          14.45,
          12.09,
          15.78,
          13.06,
          13.32,
          14.04,
          13.23,
          7.96,
          9.7,
          8.61,
          10.47,
          11.64,
          13.25,
          8.05,
          9.77,
          12.72,
          14.71,
          16.44,
          11.59,
          0.84,
          12.13,
          0.55,
          11.79,
          12.7,
          12.37,
          14.52,
          5.66,
          13.39,
          10.3,
          11.62,
          13.48,
          7.58,
          13.66,
          12.97,
          13.68,
          10.27,
          9.87,
          10.32,
          12.39,
          13.31,
          10.43,
          9.45,
          12.39,
          12.14,
          10.78,
          12.78,
          13.06,
          9.48,
          12.56,
          11.83,
          10.98,
          6.16,
          8.58,
          13.16,
          10.8,
          10.64,
          10.71,
          11.32,
          14.01,
          13.19,
          14.55,
          12.2,
          10.36,
          14.38,
          13.52,
          9.07,
          13.01,
          12.73,
          12.3,
          14.12,
          10.04,
          9.95,
          11.68,
          11.93,
          11.94,
          11.4,
          11.38,
          10.29,
          13.13,
          12.3,
          10.03,
          10.24,
          10.96,
          11.1,
          9.84,
          11.58,
          5.72,
          11.05,
          11.6,
          11.65,
          10.94,
          11.3,
          8.93,
          13.07,
          10.14,
          9.41,
          9.09,
          3.29,
          11.5,
          9.83,
          3.01,
          6.42,
          10.71,
          11.34,
          10.22,
          11.89,
          6.77,
          12.95,
          11.08,
          11.1,
          10.77,
          10.16,
          7.32,
          6.21,
          10.61,
          11.32,
          7.92,
          9.75,
          11.4,
          8.33,
          8.83,
          10.13,
          8.82,
          10.98,
          9.71
         ],
         "y0": " ",
         "yaxis": "y2"
        },
        {
         "alignmentgroup": "True",
         "boxpoints": "all",
         "customdata": [
          [
           674
          ],
          [
           671
          ],
          [
           647
          ],
          [
           647
          ],
          [
           645
          ],
          [
           622
          ],
          [
           616
          ],
          [
           612
          ],
          [
           609
          ],
          [
           608
          ],
          [
           601
          ],
          [
           595
          ],
          [
           590
          ],
          [
           591
          ],
          [
           586
          ],
          [
           582
          ],
          [
           575
          ],
          [
           578
          ],
          [
           576
          ],
          [
           572
          ],
          [
           569
          ],
          [
           567
          ],
          [
           566
          ],
          [
           573
          ],
          [
           565
          ],
          [
           555
          ],
          [
           562
          ],
          [
           554
          ],
          [
           550
          ],
          [
           539
          ],
          [
           533
          ],
          [
           530
          ],
          [
           525
          ],
          [
           526
          ],
          [
           523
          ],
          [
           528
          ],
          [
           518
          ],
          [
           509
          ],
          [
           488
          ],
          [
           486
          ],
          [
           471
          ],
          [
           464
          ],
          [
           446
          ],
          [
           445
          ],
          [
           432
          ],
          [
           429
          ],
          [
           428
          ],
          [
           421
          ],
          [
           414
          ],
          [
           407
          ],
          [
           399
          ],
          [
           396
          ],
          [
           393
          ],
          [
           386
          ],
          [
           372
          ],
          [
           372
          ],
          [
           365
          ],
          [
           370
          ],
          [
           367
          ],
          [
           364
          ],
          [
           363
          ],
          [
           362
          ],
          [
           349
          ],
          [
           345
          ],
          [
           315
          ],
          [
           315
          ],
          [
           317
          ],
          [
           318
          ],
          [
           304
          ],
          [
           294
          ],
          [
           291
          ],
          [
           290
          ],
          [
           288
          ],
          [
           285
          ],
          [
           284
          ],
          [
           281
          ],
          [
           282
          ],
          [
           273
          ],
          [
           256
          ],
          [
           253
          ],
          [
           250
          ],
          [
           251
          ],
          [
           245
          ]
         ],
         "hovertemplate": "<b>%{hovertext}</b><br><br>ANO=2022<br>VARIEDADE=Palmer<br>MES=%{x}<br>TON_HORA=%{y}<br>CONTROLE_MEGA=%{customdata[0]}<extra></extra>",
         "hovertext": [
          8,
          7,
          1,
          30,
          30,
          28,
          23,
          23,
          23,
          23,
          22,
          21,
          21,
          21,
          20,
          17,
          17,
          17,
          17,
          16,
          16,
          16,
          16,
          16,
          15,
          15,
          15,
          14,
          14,
          13,
          13,
          10,
          10,
          10,
          10,
          10,
          10,
          8,
          4,
          3,
          2,
          1,
          25,
          25,
          23,
          23,
          23,
          22,
          21,
          20,
          19,
          19,
          19,
          18,
          14,
          13,
          13,
          13,
          13,
          12,
          12,
          12,
          11,
          10,
          3,
          3,
          3,
          3,
          28,
          27,
          26,
          26,
          19,
          19,
          19,
          19,
          19,
          18,
          13,
          13,
          12,
          12,
          12
         ],
         "legendgroup": "2022",
         "marker": {
          "color": "#636efa"
         },
         "name": "2022",
         "notched": false,
         "offsetgroup": "2022",
         "orientation": "v",
         "showlegend": false,
         "type": "box",
         "x": [
          7,
          7,
          7,
          6,
          6,
          6,
          6,
          6,
          6,
          6,
          6,
          6,
          6,
          6,
          6,
          6,
          6,
          6,
          6,
          6,
          6,
          6,
          6,
          6,
          6,
          6,
          6,
          6,
          6,
          6,
          6,
          6,
          6,
          6,
          6,
          6,
          6,
          6,
          6,
          6,
          6,
          6,
          5,
          5,
          5,
          5,
          5,
          5,
          5,
          5,
          5,
          5,
          5,
          5,
          5,
          5,
          5,
          5,
          5,
          5,
          5,
          5,
          5,
          5,
          5,
          5,
          5,
          5,
          4,
          4,
          4,
          4,
          4,
          4,
          4,
          4,
          4,
          4,
          4,
          4,
          4,
          4,
          4
         ],
         "x0": " ",
         "xaxis": "x",
         "y": [
          4.61,
          10.68,
          10.08,
          0.04,
          12.81,
          12.33,
          8.38,
          7.61,
          13.15,
          9.59,
          12.26,
          16.22,
          11.93,
          11.34,
          9.88,
          13.59,
          13.81,
          14.41,
          12.86,
          12.84,
          16.02,
          10.35,
          13.39,
          11.05,
          12.92,
          13.99,
          12.4,
          15.73,
          13.27,
          9.95,
          10.57,
          11.64,
          14.65,
          8.54,
          15.34,
          11.49,
          12.13,
          17.89,
          14.72,
          0.23,
          16.7,
          10.78,
          15.05,
          13.57,
          13.43,
          12.27,
          10.73,
          10.24,
          4.15,
          10.36,
          13.26,
          10.22,
          8.16,
          12.44,
          10.41,
          6.14,
          11.72,
          11.67,
          12.23,
          12.88,
          8.57,
          11.04,
          15.96,
          10.64,
          10.38,
          6.36,
          7.8,
          13.6,
          14.15,
          1.82,
          13.13,
          13.86,
          7.85,
          14.84,
          9.17,
          10.39,
          13.13,
          12.18,
          4.58,
          14.16,
          13.64,
          14.79,
          12.53
         ],
         "y0": " ",
         "yaxis": "y"
        },
        {
         "alignmentgroup": "True",
         "boxpoints": "all",
         "customdata": [
          [
           830
          ],
          [
           826
          ],
          [
           819
          ],
          [
           823
          ],
          [
           812
          ],
          [
           811
          ],
          [
           805
          ],
          [
           807
          ],
          [
           795
          ],
          [
           791
          ],
          [
           790
          ],
          [
           794
          ],
          [
           789
          ],
          [
           782
          ],
          [
           774
          ],
          [
           769
          ],
          [
           771
          ],
          [
           755
          ],
          [
           751
          ],
          [
           749
          ],
          [
           747
          ],
          [
           746
          ],
          [
           745
          ],
          [
           743
          ],
          [
           744
          ],
          [
           741
          ],
          [
           740
          ],
          [
           738
          ],
          [
           737
          ],
          [
           730
          ],
          [
           727
          ],
          [
           728
          ],
          [
           722
          ],
          [
           724
          ],
          [
           723
          ],
          [
           716
          ],
          [
           719
          ],
          [
           717
          ],
          [
           713
          ],
          [
           709
          ],
          [
           707
          ],
          [
           705
          ],
          [
           704
          ],
          [
           702
          ],
          [
           703
          ],
          [
           698
          ],
          [
           696
          ],
          [
           695
          ],
          [
           697
          ],
          [
           694
          ],
          [
           692
          ],
          [
           688
          ],
          [
           690
          ],
          [
           686
          ],
          [
           685
          ],
          [
           684
          ],
          [
           683
          ],
          [
           682
          ],
          [
           681
          ],
          [
           679
          ],
          [
           678
          ],
          [
           675
          ],
          [
           677
          ],
          [
           672
          ],
          [
           670
          ],
          [
           667
          ],
          [
           665
          ],
          [
           664
          ],
          [
           662
          ],
          [
           658
          ],
          [
           658
          ],
          [
           659
          ],
          [
           653
          ],
          [
           655
          ],
          [
           652
          ],
          [
           647
          ],
          [
           648
          ],
          [
           651
          ],
          [
           650
          ],
          [
           640
          ],
          [
           645
          ],
          [
           640
          ],
          [
           644
          ],
          [
           642
          ],
          [
           638
          ],
          [
           635
          ],
          [
           637
          ],
          [
           639
          ],
          [
           634
          ],
          [
           633
          ],
          [
           630
          ],
          [
           625
          ],
          [
           631
          ],
          [
           629
          ],
          [
           632
          ],
          [
           622
          ],
          [
           621
          ],
          [
           619
          ],
          [
           617
          ],
          [
           612
          ],
          [
           606
          ],
          [
           611
          ],
          [
           610
          ],
          [
           605
          ],
          [
           601
          ],
          [
           596
          ],
          [
           600
          ],
          [
           604
          ],
          [
           593
          ],
          [
           595
          ],
          [
           591
          ],
          [
           578
          ],
          [
           579
          ],
          [
           576
          ],
          [
           570
          ],
          [
           565
          ],
          [
           572
          ],
          [
           557
          ],
          [
           563
          ],
          [
           558
          ],
          [
           561
          ],
          [
           556
          ],
          [
           554
          ],
          [
           551
          ],
          [
           550
          ],
          [
           535
          ],
          [
           525
          ],
          [
           531
          ],
          [
           530
          ],
          [
           526
          ],
          [
           528
          ],
          [
           519
          ],
          [
           520
          ],
          [
           513
          ],
          [
           521
          ],
          [
           518
          ],
          [
           516
          ],
          [
           506
          ],
          [
           509
          ],
          [
           510
          ],
          [
           511
          ],
          [
           490
          ],
          [
           491
          ],
          [
           492
          ],
          [
           486
          ],
          [
           482
          ],
          [
           478
          ],
          [
           483
          ],
          [
           485
          ],
          [
           484
          ],
          [
           474
          ],
          [
           465
          ],
          [
           476
          ],
          [
           475
          ],
          [
           472
          ],
          [
           473
          ],
          [
           468
          ],
          [
           463
          ],
          [
           467
          ],
          [
           461
          ],
          [
           455
          ],
          [
           451
          ],
          [
           452
          ],
          [
           454
          ],
          [
           447
          ],
          [
           449
          ],
          [
           453
          ],
          [
           445
          ],
          [
           446
          ],
          [
           440
          ],
          [
           432
          ],
          [
           430
          ],
          [
           431
          ],
          [
           426
          ],
          [
           427
          ],
          [
           429
          ],
          [
           425
          ],
          [
           480
          ],
          [
           421
          ],
          [
           423
          ],
          [
           416
          ],
          [
           417
          ],
          [
           414
          ],
          [
           400
          ],
          [
           398
          ],
          [
           397
          ],
          [
           396
          ],
          [
           393
          ],
          [
           386
          ],
          [
           392
          ],
          [
           388
          ],
          [
           390
          ],
          [
           385
          ],
          [
           384
          ],
          [
           381
          ],
          [
           375
          ],
          [
           376
          ],
          [
           364
          ],
          [
           358
          ],
          [
           357
          ],
          [
           354
          ],
          [
           353
          ],
          [
           348
          ],
          [
           349
          ],
          [
           345
          ],
          [
           331
          ],
          [
           329
          ],
          [
           320
          ],
          [
           317
          ],
          [
           315
          ],
          [
           309
          ],
          [
           307
          ],
          [
           310
          ]
         ],
         "hovertemplate": "<b>%{hovertext}</b><br><br>ANO=2021<br>VARIEDADE=Keitt<br>MES=%{x}<br>TON_HORA=%{y}<br>CONTROLE_MEGA=%{customdata[0]}<extra></extra>",
         "hovertext": [
          30,
          30,
          29,
          29,
          28,
          28,
          27,
          27,
          23,
          23,
          23,
          23,
          23,
          22,
          20,
          20,
          20,
          15,
          14,
          14,
          14,
          13,
          13,
          13,
          13,
          13,
          13,
          13,
          13,
          9,
          9,
          9,
          8,
          8,
          8,
          8,
          7,
          7,
          1,
          1,
          30,
          30,
          30,
          30,
          30,
          29,
          29,
          29,
          29,
          29,
          24,
          24,
          24,
          23,
          23,
          23,
          23,
          23,
          23,
          22,
          22,
          22,
          22,
          18,
          18,
          18,
          18,
          17,
          17,
          17,
          17,
          16,
          16,
          16,
          15,
          15,
          15,
          15,
          15,
          11,
          11,
          11,
          11,
          10,
          10,
          10,
          10,
          10,
          10,
          9,
          9,
          9,
          9,
          9,
          9,
          9,
          8,
          8,
          3,
          3,
          3,
          3,
          3,
          3,
          2,
          2,
          2,
          2,
          1,
          1,
          1,
          28,
          28,
          27,
          27,
          27,
          27,
          26,
          26,
          26,
          26,
          26,
          25,
          25,
          25,
          21,
          21,
          20,
          20,
          20,
          20,
          19,
          19,
          19,
          19,
          19,
          19,
          18,
          18,
          18,
          18,
          14,
          14,
          14,
          13,
          13,
          13,
          13,
          13,
          13,
          12,
          12,
          12,
          12,
          12,
          12,
          12,
          11,
          11,
          11,
          6,
          5,
          5,
          5,
          5,
          5,
          5,
          5,
          5,
          4,
          29,
          29,
          29,
          29,
          29,
          29,
          28,
          28,
          28,
          28,
          27,
          27,
          27,
          22,
          22,
          21,
          21,
          21,
          21,
          21,
          21,
          21,
          20,
          20,
          20,
          20,
          20,
          15,
          14,
          14,
          13,
          13,
          13,
          13,
          13,
          8,
          8,
          7,
          7,
          7,
          6,
          6,
          6
         ],
         "legendgroup": "2021",
         "marker": {
          "color": "#EF553B"
         },
         "name": "2021",
         "notched": false,
         "offsetgroup": "2021",
         "orientation": "v",
         "showlegend": true,
         "type": "box",
         "x": [
          7,
          7,
          7,
          7,
          7,
          7,
          7,
          7,
          7,
          7,
          7,
          7,
          7,
          7,
          7,
          7,
          7,
          7,
          7,
          7,
          7,
          7,
          7,
          7,
          7,
          7,
          7,
          7,
          7,
          7,
          7,
          7,
          7,
          7,
          7,
          7,
          7,
          7,
          7,
          7,
          6,
          6,
          6,
          6,
          6,
          6,
          6,
          6,
          6,
          6,
          6,
          6,
          6,
          6,
          6,
          6,
          6,
          6,
          6,
          6,
          6,
          6,
          6,
          6,
          6,
          6,
          6,
          6,
          6,
          6,
          6,
          6,
          6,
          6,
          6,
          6,
          6,
          6,
          6,
          6,
          6,
          6,
          6,
          6,
          6,
          6,
          6,
          6,
          6,
          6,
          6,
          6,
          6,
          6,
          6,
          6,
          6,
          6,
          6,
          6,
          6,
          6,
          6,
          6,
          6,
          6,
          6,
          6,
          6,
          6,
          6,
          5,
          5,
          5,
          5,
          5,
          5,
          5,
          5,
          5,
          5,
          5,
          5,
          5,
          5,
          5,
          5,
          5,
          5,
          5,
          5,
          5,
          5,
          5,
          5,
          5,
          5,
          5,
          5,
          5,
          5,
          5,
          5,
          5,
          5,
          5,
          5,
          5,
          5,
          5,
          5,
          5,
          5,
          5,
          5,
          5,
          5,
          5,
          5,
          5,
          5,
          5,
          5,
          5,
          5,
          5,
          5,
          5,
          5,
          5,
          4,
          4,
          4,
          4,
          4,
          4,
          4,
          4,
          4,
          4,
          4,
          4,
          4,
          4,
          4,
          4,
          4,
          4,
          4,
          4,
          4,
          4,
          4,
          4,
          4,
          4,
          4,
          4,
          4,
          4,
          4,
          4,
          4,
          4,
          4,
          4,
          4,
          4,
          4,
          4,
          4,
          4,
          4
         ],
         "x0": " ",
         "xaxis": "x3",
         "y": [
          11.98,
          17.22,
          10.12,
          12.65,
          18.65,
          4.69,
          14.95,
          15.04,
          20.13,
          6,
          16.5,
          17.12,
          17.89,
          16.44,
          11.7,
          14.69,
          8.79,
          8.61,
          13.88,
          7.51,
          15.73,
          15.98,
          18.07,
          7.33,
          4.87,
          15.37,
          15.22,
          11.31,
          15.23,
          13.94,
          17.97,
          17.29,
          17.93,
          7.79,
          16.55,
          12.74,
          15.04,
          7.72,
          7.31,
          12.33,
          8.89,
          8.1,
          7.6,
          14.36,
          11.39,
          10.06,
          2.67,
          10.14,
          13.53,
          15.28,
          6.06,
          19.38,
          11.93,
          3.68,
          5.78,
          7.53,
          8.38,
          9.22,
          6.7,
          6.53,
          11.14,
          11.53,
          13.58,
          4.83,
          13.32,
          9.66,
          18.46,
          14.31,
          14.49,
          12.56,
          1.45,
          13.6,
          14.92,
          12.81,
          16.68,
          17.53,
          7.18,
          9.86,
          9.11,
          5.95,
          14.84,
          8.97,
          6.44,
          15.84,
          11.55,
          8.09,
          12.48,
          15.07,
          14.12,
          15.25,
          14.13,
          8.92,
          12.41,
          14.38,
          10.37,
          14.62,
          15.72,
          16.79,
          18.95,
          17.41,
          23.22,
          21.31,
          3.89,
          18.91,
          14.14,
          14.21,
          11.65,
          11.54,
          18.02,
          11.26,
          18.88,
          18.44,
          15.22,
          19.24,
          10.23,
          21.15,
          12.66,
          18.5,
          15.52,
          10.34,
          12.79,
          6.86,
          10.31,
          21.09,
          18.36,
          23.42,
          25.41,
          19.74,
          11.7,
          17.15,
          13.72,
          10.37,
          16.24,
          22.09,
          20.23,
          18.83,
          9.37,
          20.26,
          13.46,
          15.38,
          5.52,
          8.45,
          19.1,
          8.92,
          21.04,
          13.16,
          24.93,
          19.04,
          20.72,
          15.91,
          12.39,
          15.5,
          17.54,
          12.19,
          16.35,
          16.71,
          13.5,
          17.85,
          14.76,
          14.49,
          18.58,
          18.19,
          19.1,
          17.57,
          13.52,
          18.35,
          17.65,
          20.15,
          13.73,
          17.7,
          10,
          19.41,
          15.19,
          18.87,
          20.06,
          7.44,
          15.44,
          18.08,
          14.52,
          9.91,
          16.93,
          15.17,
          8.62,
          6.26,
          17.88,
          21.75,
          18,
          21.19,
          19.48,
          19.95,
          10.86,
          14.02,
          14.43,
          16.31,
          16.98,
          8.2,
          16.41,
          11.61,
          17.04,
          12.59,
          18.65,
          15.28,
          12.79,
          6.55,
          15.7,
          10.91,
          9.12,
          13.35,
          17.42,
          13.6,
          14.22,
          15.65,
          14.4
         ],
         "y0": " ",
         "yaxis": "y3"
        },
        {
         "alignmentgroup": "True",
         "boxpoints": "all",
         "customdata": [
          [
           836
          ],
          [
           834
          ],
          [
           832
          ],
          [
           833
          ],
          [
           831
          ],
          [
           827
          ],
          [
           829
          ],
          [
           824
          ],
          [
           825
          ],
          [
           818
          ],
          [
           817
          ],
          [
           817
          ],
          [
           815
          ],
          [
           816
          ],
          [
           814
          ],
          [
           810
          ],
          [
           809
          ],
          [
           808
          ],
          [
           806
          ],
          [
           804
          ],
          [
           799
          ],
          [
           798
          ],
          [
           797
          ],
          [
           802
          ],
          [
           796
          ],
          [
           800
          ],
          [
           787
          ],
          [
           786
          ],
          [
           784
          ],
          [
           780
          ],
          [
           781
          ],
          [
           778
          ],
          [
           777
          ],
          [
           776
          ],
          [
           776
          ],
          [
           772
          ],
          [
           770
          ],
          [
           767
          ],
          [
           766
          ],
          [
           763
          ],
          [
           764
          ],
          [
           765
          ],
          [
           762
          ],
          [
           760
          ],
          [
           761
          ],
          [
           758
          ],
          [
           757
          ],
          [
           756
          ],
          [
           754
          ],
          [
           753
          ],
          [
           752
          ],
          [
           750
          ],
          [
           742
          ],
          [
           742
          ],
          [
           735
          ],
          [
           734
          ],
          [
           733
          ],
          [
           729
          ],
          [
           721
          ],
          [
           718
          ],
          [
           712
          ],
          [
           689
          ],
          [
           674
          ],
          [
           673
          ],
          [
           671
          ],
          [
           668
          ],
          [
           666
          ],
          [
           660
          ],
          [
           656
          ],
          [
           654
          ],
          [
           649
          ],
          [
           643
          ],
          [
           641
          ],
          [
           636
          ],
          [
           627
          ],
          [
           626
          ],
          [
           623
          ],
          [
           618
          ],
          [
           609
          ],
          [
           607
          ],
          [
           615
          ],
          [
           599
          ],
          [
           590
          ],
          [
           586
          ],
          [
           589
          ],
          [
           587
          ],
          [
           585
          ],
          [
           575
          ],
          [
           580
          ],
          [
           583
          ],
          [
           577
          ],
          [
           573
          ],
          [
           569
          ],
          [
           566
          ],
          [
           567
          ],
          [
           559
          ],
          [
           560
          ],
          [
           552
          ],
          [
           553
          ],
          [
           544
          ],
          [
           543
          ],
          [
           548
          ],
          [
           547
          ],
          [
           545
          ],
          [
           536
          ],
          [
           537
          ],
          [
           539
          ],
          [
           524
          ],
          [
           515
          ],
          [
           517
          ],
          [
           514
          ],
          [
           508
          ],
          [
           507
          ],
          [
           505
          ],
          [
           504
          ],
          [
           504
          ],
          [
           501
          ],
          [
           502
          ],
          [
           498
          ],
          [
           496
          ],
          [
           500
          ],
          [
           499
          ],
          [
           487
          ],
          [
           494
          ],
          [
           489
          ],
          [
           493
          ],
          [
           479
          ],
          [
           469
          ],
          [
           481
          ],
          [
           480
          ],
          [
           470
          ],
          [
           477
          ],
          [
           471
          ],
          [
           464
          ],
          [
           466
          ],
          [
           460
          ],
          [
           459
          ],
          [
           457
          ],
          [
           456
          ],
          [
           448
          ],
          [
           450
          ],
          [
           441
          ],
          [
           444
          ],
          [
           438
          ],
          [
           436
          ],
          [
           435
          ],
          [
           433
          ],
          [
           428
          ],
          [
           422
          ],
          [
           418
          ],
          [
           419
          ],
          [
           412
          ],
          [
           415
          ],
          [
           411
          ],
          [
           410
          ],
          [
           409
          ],
          [
           408
          ],
          [
           401
          ],
          [
           399
          ],
          [
           391
          ],
          [
           389
          ],
          [
           382
          ],
          [
           383
          ],
          [
           380
          ],
          [
           379
          ],
          [
           378
          ],
          [
           373
          ],
          [
           374
          ],
          [
           371
          ],
          [
           370
          ],
          [
           368
          ],
          [
           367
          ],
          [
           365
          ],
          [
           362
          ],
          [
           363
          ],
          [
           361
          ],
          [
           359
          ],
          [
           356
          ],
          [
           351
          ],
          [
           350
          ],
          [
           347
          ],
          [
           344
          ],
          [
           343
          ],
          [
           342
          ],
          [
           339
          ],
          [
           340
          ],
          [
           338
          ],
          [
           336
          ],
          [
           335
          ],
          [
           337
          ],
          [
           334
          ],
          [
           333
          ],
          [
           332
          ],
          [
           327
          ],
          [
           327
          ],
          [
           328
          ],
          [
           325
          ],
          [
           321
          ],
          [
           316
          ],
          [
           314
          ],
          [
           312
          ],
          [
           311
          ],
          [
           305
          ],
          [
           304
          ],
          [
           303
          ],
          [
           301
          ],
          [
           302
          ]
         ],
         "hovertemplate": "<b>%{hovertext}</b><br><br>ANO=2021<br>VARIEDADE=Tommy<br>MES=%{x}<br>TON_HORA=%{y}<br>CONTROLE_MEGA=%{customdata[0]}<extra></extra>",
         "hovertext": [
          31,
          31,
          31,
          31,
          31,
          30,
          30,
          30,
          30,
          29,
          29,
          28,
          28,
          28,
          28,
          27,
          27,
          27,
          27,
          27,
          24,
          24,
          24,
          24,
          24,
          24,
          23,
          22,
          22,
          22,
          22,
          21,
          21,
          21,
          20,
          20,
          20,
          16,
          16,
          16,
          16,
          16,
          16,
          16,
          16,
          15,
          15,
          15,
          15,
          15,
          14,
          14,
          14,
          13,
          10,
          10,
          9,
          9,
          7,
          7,
          1,
          24,
          19,
          19,
          19,
          18,
          18,
          17,
          16,
          16,
          15,
          11,
          11,
          10,
          9,
          8,
          8,
          4,
          4,
          4,
          3,
          1,
          1,
          29,
          29,
          29,
          29,
          28,
          28,
          28,
          28,
          27,
          27,
          27,
          27,
          26,
          26,
          25,
          25,
          22,
          22,
          22,
          22,
          22,
          21,
          21,
          21,
          20,
          19,
          19,
          19,
          18,
          18,
          18,
          18,
          18,
          15,
          15,
          15,
          15,
          15,
          15,
          14,
          14,
          14,
          14,
          13,
          13,
          13,
          13,
          13,
          13,
          12,
          11,
          11,
          6,
          6,
          6,
          6,
          6,
          5,
          4,
          4,
          30,
          30,
          30,
          29,
          29,
          28,
          28,
          28,
          27,
          27,
          27,
          23,
          23,
          23,
          22,
          22,
          21,
          21,
          21,
          21,
          20,
          20,
          20,
          17,
          17,
          17,
          16,
          16,
          16,
          15,
          15,
          15,
          14,
          14,
          14,
          13,
          13,
          13,
          10,
          10,
          10,
          10,
          10,
          9,
          9,
          9,
          9,
          8,
          8,
          8,
          8,
          7,
          7,
          7,
          7,
          7,
          6,
          6,
          6,
          1,
          1,
          1,
          1,
          1
         ],
         "legendgroup": "2021",
         "marker": {
          "color": "#EF553B"
         },
         "name": "2021",
         "notched": false,
         "offsetgroup": "2021",
         "orientation": "v",
         "showlegend": false,
         "type": "box",
         "x": [
          7,
          7,
          7,
          7,
          7,
          7,
          7,
          7,
          7,
          7,
          7,
          7,
          7,
          7,
          7,
          7,
          7,
          7,
          7,
          7,
          7,
          7,
          7,
          7,
          7,
          7,
          7,
          7,
          7,
          7,
          7,
          7,
          7,
          7,
          7,
          7,
          7,
          7,
          7,
          7,
          7,
          7,
          7,
          7,
          7,
          7,
          7,
          7,
          7,
          7,
          7,
          7,
          7,
          7,
          7,
          7,
          7,
          7,
          7,
          7,
          7,
          6,
          6,
          6,
          6,
          6,
          6,
          6,
          6,
          6,
          6,
          6,
          6,
          6,
          6,
          6,
          6,
          6,
          6,
          6,
          6,
          6,
          6,
          5,
          5,
          5,
          5,
          5,
          5,
          5,
          5,
          5,
          5,
          5,
          5,
          5,
          5,
          5,
          5,
          5,
          5,
          5,
          5,
          5,
          5,
          5,
          5,
          5,
          5,
          5,
          5,
          5,
          5,
          5,
          5,
          5,
          5,
          5,
          5,
          5,
          5,
          5,
          5,
          5,
          5,
          5,
          5,
          5,
          5,
          5,
          5,
          5,
          5,
          5,
          5,
          5,
          5,
          5,
          5,
          5,
          5,
          5,
          5,
          4,
          4,
          4,
          4,
          4,
          4,
          4,
          4,
          4,
          4,
          4,
          4,
          4,
          4,
          4,
          4,
          4,
          4,
          4,
          4,
          4,
          4,
          4,
          4,
          4,
          4,
          4,
          4,
          4,
          4,
          4,
          4,
          4,
          4,
          4,
          4,
          4,
          4,
          4,
          4,
          4,
          4,
          4,
          4,
          4,
          4,
          4,
          4,
          4,
          4,
          4,
          4,
          4,
          4,
          4,
          4,
          4,
          4,
          4,
          4,
          4,
          4,
          4,
          4
         ],
         "x0": " ",
         "xaxis": "x2",
         "y": [
          11.31,
          9.5,
          8.58,
          10.79,
          7.71,
          9.77,
          8.66,
          6.31,
          9.83,
          5.52,
          10.56,
          8.78,
          10.6,
          10.33,
          11.2,
          7.83,
          3.71,
          7.66,
          12.52,
          10.33,
          6.19,
          11.13,
          9.76,
          8.53,
          7.18,
          10.75,
          10.48,
          4.06,
          9.73,
          10.76,
          7.37,
          8.63,
          9.31,
          6.11,
          9.7,
          6.15,
          8.6,
          9.12,
          9.8,
          4.51,
          8.63,
          10.21,
          7.4,
          9.23,
          9.32,
          3.53,
          9.26,
          7.58,
          9.72,
          10.19,
          6.76,
          8.8,
          6.9,
          7.86,
          8.52,
          4.65,
          8.8,
          6.55,
          8.46,
          7.63,
          9.09,
          10.8,
          8.34,
          3.33,
          8.25,
          8.24,
          8.61,
          7.7,
          6.54,
          8.62,
          8.97,
          4.21,
          10.1,
          10.49,
          8.59,
          8.23,
          6.59,
          11.81,
          15.04,
          12.02,
          5.8,
          10.81,
          7.43,
          10.72,
          6.41,
          11.1,
          12.81,
          10.96,
          11.52,
          10.06,
          12.93,
          4.18,
          11.48,
          9.88,
          9.76,
          11.36,
          11.61,
          10.32,
          9.53,
          5.99,
          9.44,
          11.06,
          10.99,
          10.45,
          11.45,
          13.55,
          6.41,
          11.96,
          12.88,
          10.31,
          10.68,
          12.37,
          10.34,
          10.69,
          11.95,
          8.45,
          4.79,
          9.14,
          12.48,
          12.2,
          11.91,
          12.39,
          11.16,
          13.37,
          3.72,
          12.29,
          7.29,
          11.59,
          12.97,
          12.19,
          12.85,
          11.66,
          11.27,
          11.38,
          11.19,
          9.75,
          9.36,
          12.05,
          6.23,
          10.42,
          9.45,
          10.16,
          10.92,
          12.77,
          11.61,
          11.27,
          8.6,
          11.96,
          10.57,
          11.88,
          11.37,
          11.35,
          11.75,
          11.31,
          8.82,
          9.81,
          7.91,
          9.25,
          11.85,
          12.46,
          10.04,
          13.19,
          10.56,
          8.45,
          12.61,
          13.68,
          8.6,
          9.66,
          6.25,
          3.51,
          10,
          11.2,
          8.82,
          10.55,
          9.6,
          10.13,
          3.96,
          9.56,
          7.94,
          10.36,
          8.81,
          10.12,
          4.77,
          9.66,
          9.22,
          9.64,
          6.63,
          9.8,
          7,
          8.51,
          8.8,
          8.4,
          6.03,
          8.57,
          10.1,
          7.34,
          10.71,
          9.4,
          8.97,
          8.81,
          9.74,
          7.67,
          8.85,
          6.72,
          9.31,
          8.54,
          7.51
         ],
         "y0": " ",
         "yaxis": "y2"
        },
        {
         "alignmentgroup": "True",
         "boxpoints": "all",
         "customdata": [
          [
           828
          ],
          [
           820
          ],
          [
           822
          ],
          [
           821
          ],
          [
           813
          ],
          [
           803
          ],
          [
           792
          ],
          [
           793
          ],
          [
           785
          ],
          [
           783
          ],
          [
           779
          ],
          [
           773
          ],
          [
           739
          ],
          [
           732
          ],
          [
           731
          ],
          [
           725
          ],
          [
           720
          ],
          [
           714
          ],
          [
           710
          ],
          [
           711
          ],
          [
           706
          ],
          [
           691
          ],
          [
           669
          ],
          [
           663
          ],
          [
           657
          ],
          [
           624
          ],
          [
           616
          ],
          [
           614
          ],
          [
           613
          ],
          [
           608
          ],
          [
           602
          ],
          [
           603
          ],
          [
           594
          ],
          [
           592
          ],
          [
           584
          ],
          [
           581
          ],
          [
           582
          ],
          [
           574
          ],
          [
           568
          ],
          [
           571
          ],
          [
           564
          ],
          [
           546
          ],
          [
           541
          ],
          [
           538
          ],
          [
           540
          ],
          [
           533
          ],
          [
           532
          ],
          [
           522
          ],
          [
           523
          ],
          [
           527
          ],
          [
           495
          ],
          [
           488
          ],
          [
           458
          ],
          [
           443
          ],
          [
           439
          ],
          [
           434
          ],
          [
           424
          ],
          [
           406
          ],
          [
           407
          ],
          [
           403
          ],
          [
           394
          ],
          [
           387
          ],
          [
           372
          ],
          [
           369
          ],
          [
           366
          ],
          [
           360
          ],
          [
           2339
          ],
          [
           352
          ],
          [
           2338
          ],
          [
           346
          ],
          [
           2337
          ],
          [
           2335
          ],
          [
           330
          ],
          [
           322
          ],
          [
           2334
          ],
          [
           2333
          ]
         ],
         "hovertemplate": "<b>%{hovertext}</b><br><br>ANO=2021<br>VARIEDADE=Palmer<br>MES=%{x}<br>TON_HORA=%{y}<br>CONTROLE_MEGA=%{customdata[0]}<extra></extra>",
         "hovertext": [
          30,
          29,
          29,
          29,
          28,
          27,
          23,
          23,
          22,
          22,
          21,
          20,
          13,
          10,
          9,
          8,
          7,
          1,
          1,
          1,
          30,
          24,
          18,
          17,
          16,
          8,
          4,
          3,
          3,
          3,
          2,
          2,
          1,
          1,
          29,
          28,
          28,
          27,
          27,
          27,
          26,
          22,
          21,
          21,
          21,
          21,
          21,
          21,
          20,
          20,
          14,
          14,
          6,
          4,
          30,
          30,
          28,
          23,
          23,
          22,
          22,
          21,
          16,
          16,
          15,
          15,
          15,
          14,
          14,
          13,
          9,
          8,
          8,
          7,
          1,
          1
         ],
         "legendgroup": "2021",
         "marker": {
          "color": "#EF553B"
         },
         "name": "2021",
         "notched": false,
         "offsetgroup": "2021",
         "orientation": "v",
         "showlegend": false,
         "type": "box",
         "x": [
          7,
          7,
          7,
          7,
          7,
          7,
          7,
          7,
          7,
          7,
          7,
          7,
          7,
          7,
          7,
          7,
          7,
          7,
          7,
          7,
          6,
          6,
          6,
          6,
          6,
          6,
          6,
          6,
          6,
          6,
          6,
          6,
          6,
          6,
          5,
          5,
          5,
          5,
          5,
          5,
          5,
          5,
          5,
          5,
          5,
          5,
          5,
          5,
          5,
          5,
          5,
          5,
          5,
          5,
          4,
          4,
          4,
          4,
          4,
          4,
          4,
          4,
          4,
          4,
          4,
          4,
          4,
          4,
          4,
          4,
          4,
          4,
          4,
          4,
          4,
          4
         ],
         "x0": " ",
         "xaxis": "x",
         "y": [
          8.49,
          12.89,
          10.93,
          11.98,
          7.81,
          11.49,
          10.6,
          10.77,
          10.87,
          11.18,
          8.65,
          9.68,
          7.54,
          5.88,
          7.46,
          8.61,
          8.57,
          8.95,
          8.3,
          10.1,
          5.63,
          8.36,
          9.22,
          6.23,
          5.93,
          7.52,
          11.37,
          11.37,
          10.99,
          8.54,
          8.26,
          8.54,
          9.5,
          11.14,
          5.7,
          11.84,
          0.98,
          11.56,
          7.25,
          11.76,
          9.91,
          9.54,
          12.1,
          9.87,
          13.75,
          13.57,
          14.02,
          12.98,
          8.3,
          11.98,
          8.57,
          17.43,
          9.8,
          8.47,
          11.41,
          7.04,
          9.91,
          10.77,
          10.45,
          12.2,
          11.55,
          8.81,
          12.85,
          11.66,
          11.47,
          7.16,
          8.83,
          9.17,
          7.88,
          8.92,
          8.82,
          9.77,
          9.98,
          6.05,
          9.16,
          5.7
         ],
         "y0": " ",
         "yaxis": "y"
        }
       ],
       "layout": {
        "annotations": [
         {
          "font": {},
          "showarrow": false,
          "text": "VARIEDADE=Palmer",
          "textangle": 90,
          "x": 0.98,
          "xanchor": "left",
          "xref": "paper",
          "y": 0.15666666666666665,
          "yanchor": "middle",
          "yref": "paper"
         },
         {
          "font": {},
          "showarrow": false,
          "text": "VARIEDADE=Tommy",
          "textangle": 90,
          "x": 0.98,
          "xanchor": "left",
          "xref": "paper",
          "y": 0.4999999999999999,
          "yanchor": "middle",
          "yref": "paper"
         },
         {
          "font": {},
          "showarrow": false,
          "text": "VARIEDADE=Keitt",
          "textangle": 90,
          "x": 0.98,
          "xanchor": "left",
          "xref": "paper",
          "y": 0.8433333333333332,
          "yanchor": "middle",
          "yref": "paper"
         }
        ],
        "boxmode": "group",
        "height": 1200,
        "legend": {
         "title": {
          "text": "ANO"
         },
         "tracegroupgap": 0
        },
        "margin": {
         "t": 60
        },
        "template": {
         "data": {
          "bar": [
           {
            "error_x": {
             "color": "#2a3f5f"
            },
            "error_y": {
             "color": "#2a3f5f"
            },
            "marker": {
             "line": {
              "color": "#E5ECF6",
              "width": 0.5
             },
             "pattern": {
              "fillmode": "overlay",
              "size": 10,
              "solidity": 0.2
             }
            },
            "type": "bar"
           }
          ],
          "barpolar": [
           {
            "marker": {
             "line": {
              "color": "#E5ECF6",
              "width": 0.5
             },
             "pattern": {
              "fillmode": "overlay",
              "size": 10,
              "solidity": 0.2
             }
            },
            "type": "barpolar"
           }
          ],
          "carpet": [
           {
            "aaxis": {
             "endlinecolor": "#2a3f5f",
             "gridcolor": "white",
             "linecolor": "white",
             "minorgridcolor": "white",
             "startlinecolor": "#2a3f5f"
            },
            "baxis": {
             "endlinecolor": "#2a3f5f",
             "gridcolor": "white",
             "linecolor": "white",
             "minorgridcolor": "white",
             "startlinecolor": "#2a3f5f"
            },
            "type": "carpet"
           }
          ],
          "choropleth": [
           {
            "colorbar": {
             "outlinewidth": 0,
             "ticks": ""
            },
            "type": "choropleth"
           }
          ],
          "contour": [
           {
            "colorbar": {
             "outlinewidth": 0,
             "ticks": ""
            },
            "colorscale": [
             [
              0,
              "#0d0887"
             ],
             [
              0.1111111111111111,
              "#46039f"
             ],
             [
              0.2222222222222222,
              "#7201a8"
             ],
             [
              0.3333333333333333,
              "#9c179e"
             ],
             [
              0.4444444444444444,
              "#bd3786"
             ],
             [
              0.5555555555555556,
              "#d8576b"
             ],
             [
              0.6666666666666666,
              "#ed7953"
             ],
             [
              0.7777777777777778,
              "#fb9f3a"
             ],
             [
              0.8888888888888888,
              "#fdca26"
             ],
             [
              1,
              "#f0f921"
             ]
            ],
            "type": "contour"
           }
          ],
          "contourcarpet": [
           {
            "colorbar": {
             "outlinewidth": 0,
             "ticks": ""
            },
            "type": "contourcarpet"
           }
          ],
          "heatmap": [
           {
            "colorbar": {
             "outlinewidth": 0,
             "ticks": ""
            },
            "colorscale": [
             [
              0,
              "#0d0887"
             ],
             [
              0.1111111111111111,
              "#46039f"
             ],
             [
              0.2222222222222222,
              "#7201a8"
             ],
             [
              0.3333333333333333,
              "#9c179e"
             ],
             [
              0.4444444444444444,
              "#bd3786"
             ],
             [
              0.5555555555555556,
              "#d8576b"
             ],
             [
              0.6666666666666666,
              "#ed7953"
             ],
             [
              0.7777777777777778,
              "#fb9f3a"
             ],
             [
              0.8888888888888888,
              "#fdca26"
             ],
             [
              1,
              "#f0f921"
             ]
            ],
            "type": "heatmap"
           }
          ],
          "heatmapgl": [
           {
            "colorbar": {
             "outlinewidth": 0,
             "ticks": ""
            },
            "colorscale": [
             [
              0,
              "#0d0887"
             ],
             [
              0.1111111111111111,
              "#46039f"
             ],
             [
              0.2222222222222222,
              "#7201a8"
             ],
             [
              0.3333333333333333,
              "#9c179e"
             ],
             [
              0.4444444444444444,
              "#bd3786"
             ],
             [
              0.5555555555555556,
              "#d8576b"
             ],
             [
              0.6666666666666666,
              "#ed7953"
             ],
             [
              0.7777777777777778,
              "#fb9f3a"
             ],
             [
              0.8888888888888888,
              "#fdca26"
             ],
             [
              1,
              "#f0f921"
             ]
            ],
            "type": "heatmapgl"
           }
          ],
          "histogram": [
           {
            "marker": {
             "pattern": {
              "fillmode": "overlay",
              "size": 10,
              "solidity": 0.2
             }
            },
            "type": "histogram"
           }
          ],
          "histogram2d": [
           {
            "colorbar": {
             "outlinewidth": 0,
             "ticks": ""
            },
            "colorscale": [
             [
              0,
              "#0d0887"
             ],
             [
              0.1111111111111111,
              "#46039f"
             ],
             [
              0.2222222222222222,
              "#7201a8"
             ],
             [
              0.3333333333333333,
              "#9c179e"
             ],
             [
              0.4444444444444444,
              "#bd3786"
             ],
             [
              0.5555555555555556,
              "#d8576b"
             ],
             [
              0.6666666666666666,
              "#ed7953"
             ],
             [
              0.7777777777777778,
              "#fb9f3a"
             ],
             [
              0.8888888888888888,
              "#fdca26"
             ],
             [
              1,
              "#f0f921"
             ]
            ],
            "type": "histogram2d"
           }
          ],
          "histogram2dcontour": [
           {
            "colorbar": {
             "outlinewidth": 0,
             "ticks": ""
            },
            "colorscale": [
             [
              0,
              "#0d0887"
             ],
             [
              0.1111111111111111,
              "#46039f"
             ],
             [
              0.2222222222222222,
              "#7201a8"
             ],
             [
              0.3333333333333333,
              "#9c179e"
             ],
             [
              0.4444444444444444,
              "#bd3786"
             ],
             [
              0.5555555555555556,
              "#d8576b"
             ],
             [
              0.6666666666666666,
              "#ed7953"
             ],
             [
              0.7777777777777778,
              "#fb9f3a"
             ],
             [
              0.8888888888888888,
              "#fdca26"
             ],
             [
              1,
              "#f0f921"
             ]
            ],
            "type": "histogram2dcontour"
           }
          ],
          "mesh3d": [
           {
            "colorbar": {
             "outlinewidth": 0,
             "ticks": ""
            },
            "type": "mesh3d"
           }
          ],
          "parcoords": [
           {
            "line": {
             "colorbar": {
              "outlinewidth": 0,
              "ticks": ""
             }
            },
            "type": "parcoords"
           }
          ],
          "pie": [
           {
            "automargin": true,
            "type": "pie"
           }
          ],
          "scatter": [
           {
            "marker": {
             "colorbar": {
              "outlinewidth": 0,
              "ticks": ""
             }
            },
            "type": "scatter"
           }
          ],
          "scatter3d": [
           {
            "line": {
             "colorbar": {
              "outlinewidth": 0,
              "ticks": ""
             }
            },
            "marker": {
             "colorbar": {
              "outlinewidth": 0,
              "ticks": ""
             }
            },
            "type": "scatter3d"
           }
          ],
          "scattercarpet": [
           {
            "marker": {
             "colorbar": {
              "outlinewidth": 0,
              "ticks": ""
             }
            },
            "type": "scattercarpet"
           }
          ],
          "scattergeo": [
           {
            "marker": {
             "colorbar": {
              "outlinewidth": 0,
              "ticks": ""
             }
            },
            "type": "scattergeo"
           }
          ],
          "scattergl": [
           {
            "marker": {
             "colorbar": {
              "outlinewidth": 0,
              "ticks": ""
             }
            },
            "type": "scattergl"
           }
          ],
          "scattermapbox": [
           {
            "marker": {
             "colorbar": {
              "outlinewidth": 0,
              "ticks": ""
             }
            },
            "type": "scattermapbox"
           }
          ],
          "scatterpolar": [
           {
            "marker": {
             "colorbar": {
              "outlinewidth": 0,
              "ticks": ""
             }
            },
            "type": "scatterpolar"
           }
          ],
          "scatterpolargl": [
           {
            "marker": {
             "colorbar": {
              "outlinewidth": 0,
              "ticks": ""
             }
            },
            "type": "scatterpolargl"
           }
          ],
          "scatterternary": [
           {
            "marker": {
             "colorbar": {
              "outlinewidth": 0,
              "ticks": ""
             }
            },
            "type": "scatterternary"
           }
          ],
          "surface": [
           {
            "colorbar": {
             "outlinewidth": 0,
             "ticks": ""
            },
            "colorscale": [
             [
              0,
              "#0d0887"
             ],
             [
              0.1111111111111111,
              "#46039f"
             ],
             [
              0.2222222222222222,
              "#7201a8"
             ],
             [
              0.3333333333333333,
              "#9c179e"
             ],
             [
              0.4444444444444444,
              "#bd3786"
             ],
             [
              0.5555555555555556,
              "#d8576b"
             ],
             [
              0.6666666666666666,
              "#ed7953"
             ],
             [
              0.7777777777777778,
              "#fb9f3a"
             ],
             [
              0.8888888888888888,
              "#fdca26"
             ],
             [
              1,
              "#f0f921"
             ]
            ],
            "type": "surface"
           }
          ],
          "table": [
           {
            "cells": {
             "fill": {
              "color": "#EBF0F8"
             },
             "line": {
              "color": "white"
             }
            },
            "header": {
             "fill": {
              "color": "#C8D4E3"
             },
             "line": {
              "color": "white"
             }
            },
            "type": "table"
           }
          ]
         },
         "layout": {
          "annotationdefaults": {
           "arrowcolor": "#2a3f5f",
           "arrowhead": 0,
           "arrowwidth": 1
          },
          "autotypenumbers": "strict",
          "coloraxis": {
           "colorbar": {
            "outlinewidth": 0,
            "ticks": ""
           }
          },
          "colorscale": {
           "diverging": [
            [
             0,
             "#8e0152"
            ],
            [
             0.1,
             "#c51b7d"
            ],
            [
             0.2,
             "#de77ae"
            ],
            [
             0.3,
             "#f1b6da"
            ],
            [
             0.4,
             "#fde0ef"
            ],
            [
             0.5,
             "#f7f7f7"
            ],
            [
             0.6,
             "#e6f5d0"
            ],
            [
             0.7,
             "#b8e186"
            ],
            [
             0.8,
             "#7fbc41"
            ],
            [
             0.9,
             "#4d9221"
            ],
            [
             1,
             "#276419"
            ]
           ],
           "sequential": [
            [
             0,
             "#0d0887"
            ],
            [
             0.1111111111111111,
             "#46039f"
            ],
            [
             0.2222222222222222,
             "#7201a8"
            ],
            [
             0.3333333333333333,
             "#9c179e"
            ],
            [
             0.4444444444444444,
             "#bd3786"
            ],
            [
             0.5555555555555556,
             "#d8576b"
            ],
            [
             0.6666666666666666,
             "#ed7953"
            ],
            [
             0.7777777777777778,
             "#fb9f3a"
            ],
            [
             0.8888888888888888,
             "#fdca26"
            ],
            [
             1,
             "#f0f921"
            ]
           ],
           "sequentialminus": [
            [
             0,
             "#0d0887"
            ],
            [
             0.1111111111111111,
             "#46039f"
            ],
            [
             0.2222222222222222,
             "#7201a8"
            ],
            [
             0.3333333333333333,
             "#9c179e"
            ],
            [
             0.4444444444444444,
             "#bd3786"
            ],
            [
             0.5555555555555556,
             "#d8576b"
            ],
            [
             0.6666666666666666,
             "#ed7953"
            ],
            [
             0.7777777777777778,
             "#fb9f3a"
            ],
            [
             0.8888888888888888,
             "#fdca26"
            ],
            [
             1,
             "#f0f921"
            ]
           ]
          },
          "colorway": [
           "#636efa",
           "#EF553B",
           "#00cc96",
           "#ab63fa",
           "#FFA15A",
           "#19d3f3",
           "#FF6692",
           "#B6E880",
           "#FF97FF",
           "#FECB52"
          ],
          "font": {
           "color": "#2a3f5f"
          },
          "geo": {
           "bgcolor": "white",
           "lakecolor": "white",
           "landcolor": "#E5ECF6",
           "showlakes": true,
           "showland": true,
           "subunitcolor": "white"
          },
          "hoverlabel": {
           "align": "left"
          },
          "hovermode": "closest",
          "mapbox": {
           "style": "light"
          },
          "paper_bgcolor": "white",
          "plot_bgcolor": "#E5ECF6",
          "polar": {
           "angularaxis": {
            "gridcolor": "white",
            "linecolor": "white",
            "ticks": ""
           },
           "bgcolor": "#E5ECF6",
           "radialaxis": {
            "gridcolor": "white",
            "linecolor": "white",
            "ticks": ""
           }
          },
          "scene": {
           "xaxis": {
            "backgroundcolor": "#E5ECF6",
            "gridcolor": "white",
            "gridwidth": 2,
            "linecolor": "white",
            "showbackground": true,
            "ticks": "",
            "zerolinecolor": "white"
           },
           "yaxis": {
            "backgroundcolor": "#E5ECF6",
            "gridcolor": "white",
            "gridwidth": 2,
            "linecolor": "white",
            "showbackground": true,
            "ticks": "",
            "zerolinecolor": "white"
           },
           "zaxis": {
            "backgroundcolor": "#E5ECF6",
            "gridcolor": "white",
            "gridwidth": 2,
            "linecolor": "white",
            "showbackground": true,
            "ticks": "",
            "zerolinecolor": "white"
           }
          },
          "shapedefaults": {
           "line": {
            "color": "#2a3f5f"
           }
          },
          "ternary": {
           "aaxis": {
            "gridcolor": "white",
            "linecolor": "white",
            "ticks": ""
           },
           "baxis": {
            "gridcolor": "white",
            "linecolor": "white",
            "ticks": ""
           },
           "bgcolor": "#E5ECF6",
           "caxis": {
            "gridcolor": "white",
            "linecolor": "white",
            "ticks": ""
           }
          },
          "title": {
           "x": 0.05
          },
          "xaxis": {
           "automargin": true,
           "gridcolor": "white",
           "linecolor": "white",
           "ticks": "",
           "title": {
            "standoff": 15
           },
           "zerolinecolor": "white",
           "zerolinewidth": 2
          },
          "yaxis": {
           "automargin": true,
           "gridcolor": "white",
           "linecolor": "white",
           "ticks": "",
           "title": {
            "standoff": 15
           },
           "zerolinecolor": "white",
           "zerolinewidth": 2
          }
         }
        },
        "width": 1800,
        "xaxis": {
         "anchor": "y",
         "domain": [
          0,
          0.98
         ],
         "title": {
          "text": "MES"
         }
        },
        "xaxis2": {
         "anchor": "y2",
         "domain": [
          0,
          0.98
         ],
         "matches": "x",
         "showticklabels": false
        },
        "xaxis3": {
         "anchor": "y3",
         "domain": [
          0,
          0.98
         ],
         "matches": "x",
         "showticklabels": false
        },
        "yaxis": {
         "anchor": "x",
         "domain": [
          0,
          0.3133333333333333
         ],
         "title": {
          "text": "TON_HORA"
         }
        },
        "yaxis2": {
         "anchor": "x2",
         "domain": [
          0.34333333333333327,
          0.6566666666666665
         ],
         "matches": "y",
         "title": {
          "text": "TON_HORA"
         }
        },
        "yaxis3": {
         "anchor": "x3",
         "domain": [
          0.6866666666666665,
          0.9999999999999998
         ],
         "matches": "y",
         "title": {
          "text": "TON_HORA"
         }
        }
       }
      }
     },
     "metadata": {},
     "output_type": "display_data"
    }
   ],
   "source": [
    "df['MES'] = df['MES'].astype(int)\n",
    "df['DIA'] = df['DIA'].astype(int)\n",
    "\n",
    "fig = px.box(df,x = 'MES',y = 'TON_HORA', color = 'ANO', hover_name = 'DIA', facet_row = 'VARIEDADE',hover_data=[\"CONTROLE_MEGA\"],points=\"all\")\n",
    "fig.update_layout(height = 1200, width = 1800)\n",
    "fig"
   ]
  },
  {
   "cell_type": "code",
   "execution_count": 657,
   "metadata": {},
   "outputs": [
    {
     "data": {
      "application/vnd.plotly.v1+json": {
       "config": {
        "plotlyServerURL": "https://plot.ly"
       },
       "data": [
        {
         "alignmentgroup": "True",
         "bingroup": "x",
         "histfunc": "avg",
         "hovertemplate": "ANO=2022<br>VARIEDADE=Keitt<br>MES=%{x}<br>avg of TON_HORA=%{y}<extra></extra>",
         "legendgroup": "2022",
         "marker": {
          "color": "#636efa",
          "pattern": {
           "shape": ""
          }
         },
         "name": "2022",
         "offsetgroup": "2022",
         "orientation": "v",
         "showlegend": true,
         "type": "histogram",
         "x": [
          7,
          7,
          7,
          7,
          7,
          7,
          7,
          7,
          7,
          7,
          7,
          7,
          7,
          7,
          7,
          7,
          7,
          7,
          7,
          7,
          7,
          6,
          6,
          6,
          6,
          6,
          6,
          6,
          6,
          6,
          6,
          6,
          6,
          6,
          6,
          6,
          6,
          6,
          6,
          6,
          6,
          6,
          6,
          6,
          6,
          6,
          6,
          6,
          6,
          6,
          6,
          6,
          6,
          6,
          6,
          6,
          6,
          6,
          6,
          6,
          6,
          6,
          6,
          6,
          6,
          6,
          6,
          6,
          6,
          6,
          6,
          6,
          6,
          6,
          6,
          6,
          6,
          6,
          6,
          6,
          6,
          6,
          6,
          6,
          6,
          5,
          5,
          5,
          5,
          5,
          5,
          5,
          5,
          5,
          5,
          5,
          5,
          5,
          5,
          5,
          5,
          5,
          5,
          5,
          5,
          5,
          5,
          5,
          5,
          5,
          5,
          5,
          5,
          5,
          5,
          5,
          5,
          5,
          5,
          5,
          5,
          5,
          5,
          5,
          5,
          5,
          5,
          5,
          4,
          4,
          4,
          4,
          4,
          4,
          4,
          4,
          4,
          4,
          4,
          4,
          4,
          4,
          4,
          4,
          4,
          4,
          4,
          4,
          4
         ],
         "xaxis": "x",
         "y": [
          16.18,
          6,
          18.24,
          10.11,
          14.18,
          11.91,
          14.68,
          13.45,
          21.55,
          4.3,
          18.8,
          14.19,
          19.65,
          22.51,
          24.12,
          9.55,
          5.72,
          13.12,
          8.49,
          15.98,
          17.45,
          9.9,
          21.51,
          24.83,
          18.78,
          0.61,
          13.13,
          17.72,
          23.05,
          18.48,
          16.79,
          19.52,
          20.73,
          10.17,
          13.61,
          15.77,
          17.23,
          12.6,
          14.99,
          17.56,
          14.16,
          11.48,
          15.81,
          16.34,
          14.15,
          20.1,
          26.37,
          21.85,
          9.15,
          20.46,
          18.67,
          12.66,
          10.51,
          13.3,
          9.56,
          15.4,
          24.58,
          16.43,
          19.17,
          23.76,
          25.74,
          23.89,
          10.16,
          20.17,
          14.36,
          11.62,
          18.96,
          16.69,
          19.22,
          19.42,
          19.83,
          21.74,
          13.51,
          14.76,
          18.7,
          17.65,
          9.33,
          16.57,
          17.81,
          18.11,
          19.94,
          17.77,
          16.77,
          20.87,
          20.24,
          21.52,
          16.49,
          17.18,
          20.6,
          16.55,
          23.12,
          21.64,
          4.46,
          18.11,
          11.79,
          18.71,
          19.38,
          12.16,
          5.07,
          22.34,
          18.24,
          24.65,
          7.47,
          25.04,
          21.79,
          8.02,
          18.19,
          16.6,
          13.53,
          8.75,
          13.07,
          19.36,
          2.56,
          15.4,
          11.08,
          14.66,
          12.56,
          16.11,
          19.15,
          16.16,
          19.07,
          19.09,
          18.32,
          12.93,
          8.73,
          17.69,
          13.8,
          13.45,
          19.35,
          9.91,
          17.61,
          6.67,
          14.32,
          15.36,
          14.98,
          14.3,
          17.58,
          14.76,
          13.01,
          6.75,
          14.49,
          15.28,
          16.43,
          15.74,
          15.53,
          14.65,
          11.06,
          6.1,
          13.61
         ],
         "yaxis": "y"
        },
        {
         "alignmentgroup": "True",
         "bingroup": "x",
         "histfunc": "avg",
         "hovertemplate": "ANO=2022<br>VARIEDADE=Tommy<br>MES=%{x}<br>avg of TON_HORA=%{y}<extra></extra>",
         "legendgroup": "2022",
         "marker": {
          "color": "#636efa",
          "pattern": {
           "shape": ""
          }
         },
         "name": "2022",
         "offsetgroup": "2022",
         "orientation": "v",
         "showlegend": false,
         "type": "histogram",
         "x": [
          7,
          7,
          7,
          7,
          7,
          7,
          7,
          7,
          7,
          7,
          7,
          6,
          6,
          6,
          6,
          6,
          6,
          6,
          6,
          6,
          6,
          6,
          6,
          6,
          6,
          6,
          6,
          6,
          6,
          6,
          6,
          6,
          6,
          6,
          6,
          6,
          6,
          6,
          6,
          6,
          6,
          6,
          6,
          6,
          6,
          6,
          6,
          6,
          6,
          6,
          6,
          6,
          6,
          6,
          6,
          6,
          6,
          6,
          6,
          6,
          6,
          6,
          6,
          6,
          6,
          6,
          6,
          6,
          6,
          6,
          6,
          6,
          6,
          6,
          6,
          6,
          6,
          6,
          6,
          6,
          6,
          6,
          6,
          5,
          5,
          5,
          5,
          5,
          5,
          5,
          5,
          5,
          5,
          5,
          5,
          5,
          5,
          5,
          5,
          5,
          5,
          5,
          5,
          5,
          5,
          5,
          5,
          5,
          5,
          5,
          5,
          5,
          5,
          5,
          5,
          5,
          5,
          5,
          5,
          5,
          5,
          5,
          5,
          5,
          5,
          5,
          5,
          5,
          5,
          5,
          5,
          5,
          5,
          5,
          5,
          5,
          5,
          5,
          5,
          5,
          4,
          4,
          4,
          4,
          4,
          4,
          4,
          4,
          4,
          4,
          4,
          4,
          4,
          4,
          4,
          4,
          4,
          4,
          4,
          4,
          4,
          4,
          4,
          4,
          4,
          4,
          4,
          4
         ],
         "xaxis": "x2",
         "y": [
          9.3,
          12.05,
          4.45,
          9.34,
          11.82,
          5.02,
          7.19,
          9.93,
          10.53,
          11.78,
          15.13,
          13.55,
          11.24,
          8.09,
          4.03,
          13.34,
          5.35,
          14.19,
          10.41,
          12.9,
          14.32,
          12.31,
          13.78,
          12.94,
          15.91,
          15.2,
          13.08,
          14.63,
          10.16,
          15.5,
          10.28,
          14.81,
          10.69,
          11.28,
          10.26,
          8.57,
          11.67,
          11.65,
          5.39,
          9.3,
          7.64,
          13.36,
          9.58,
          14.45,
          12.09,
          15.78,
          13.06,
          13.32,
          14.04,
          13.23,
          7.96,
          9.7,
          8.61,
          10.47,
          11.64,
          13.25,
          8.05,
          9.77,
          12.72,
          14.71,
          16.44,
          11.59,
          0.84,
          12.13,
          0.55,
          11.79,
          12.7,
          12.37,
          14.52,
          5.66,
          13.39,
          10.3,
          11.62,
          13.48,
          7.58,
          13.66,
          12.97,
          13.68,
          10.27,
          9.87,
          10.32,
          12.39,
          13.31,
          10.43,
          9.45,
          12.39,
          12.14,
          10.78,
          12.78,
          13.06,
          9.48,
          12.56,
          11.83,
          10.98,
          6.16,
          8.58,
          13.16,
          10.8,
          10.64,
          10.71,
          11.32,
          14.01,
          13.19,
          14.55,
          12.2,
          10.36,
          14.38,
          13.52,
          9.07,
          13.01,
          12.73,
          12.3,
          14.12,
          10.04,
          9.95,
          11.68,
          11.93,
          11.94,
          11.4,
          11.38,
          10.29,
          13.13,
          12.3,
          10.03,
          10.24,
          10.96,
          11.1,
          9.84,
          11.58,
          5.72,
          11.05,
          11.6,
          11.65,
          10.94,
          11.3,
          8.93,
          13.07,
          10.14,
          9.41,
          9.09,
          3.29,
          11.5,
          9.83,
          3.01,
          6.42,
          10.71,
          11.34,
          10.22,
          11.89,
          6.77,
          12.95,
          11.08,
          11.1,
          10.77,
          10.16,
          7.32,
          6.21,
          10.61,
          11.32,
          7.92,
          9.75,
          11.4,
          8.33,
          8.83,
          10.13,
          8.82,
          10.98,
          9.71
         ],
         "yaxis": "y2"
        },
        {
         "alignmentgroup": "True",
         "bingroup": "x",
         "histfunc": "avg",
         "hovertemplate": "ANO=2022<br>VARIEDADE=Palmer<br>MES=%{x}<br>avg of TON_HORA=%{y}<extra></extra>",
         "legendgroup": "2022",
         "marker": {
          "color": "#636efa",
          "pattern": {
           "shape": ""
          }
         },
         "name": "2022",
         "offsetgroup": "2022",
         "orientation": "v",
         "showlegend": false,
         "type": "histogram",
         "x": [
          7,
          7,
          7,
          6,
          6,
          6,
          6,
          6,
          6,
          6,
          6,
          6,
          6,
          6,
          6,
          6,
          6,
          6,
          6,
          6,
          6,
          6,
          6,
          6,
          6,
          6,
          6,
          6,
          6,
          6,
          6,
          6,
          6,
          6,
          6,
          6,
          6,
          6,
          6,
          6,
          6,
          6,
          5,
          5,
          5,
          5,
          5,
          5,
          5,
          5,
          5,
          5,
          5,
          5,
          5,
          5,
          5,
          5,
          5,
          5,
          5,
          5,
          5,
          5,
          5,
          5,
          5,
          5,
          4,
          4,
          4,
          4,
          4,
          4,
          4,
          4,
          4,
          4,
          4,
          4,
          4,
          4,
          4
         ],
         "xaxis": "x3",
         "y": [
          4.61,
          10.68,
          10.08,
          0.04,
          12.81,
          12.33,
          8.38,
          7.61,
          13.15,
          9.59,
          12.26,
          16.22,
          11.93,
          11.34,
          9.88,
          13.59,
          13.81,
          14.41,
          12.86,
          12.84,
          16.02,
          10.35,
          13.39,
          11.05,
          12.92,
          13.99,
          12.4,
          15.73,
          13.27,
          9.95,
          10.57,
          11.64,
          14.65,
          8.54,
          15.34,
          11.49,
          12.13,
          17.89,
          14.72,
          0.23,
          16.7,
          10.78,
          15.05,
          13.57,
          13.43,
          12.27,
          10.73,
          10.24,
          4.15,
          10.36,
          13.26,
          10.22,
          8.16,
          12.44,
          10.41,
          6.14,
          11.72,
          11.67,
          12.23,
          12.88,
          8.57,
          11.04,
          15.96,
          10.64,
          10.38,
          6.36,
          7.8,
          13.6,
          14.15,
          1.82,
          13.13,
          13.86,
          7.85,
          14.84,
          9.17,
          10.39,
          13.13,
          12.18,
          4.58,
          14.16,
          13.64,
          14.79,
          12.53
         ],
         "yaxis": "y3"
        },
        {
         "alignmentgroup": "True",
         "bingroup": "x",
         "histfunc": "avg",
         "hovertemplate": "ANO=2021<br>VARIEDADE=Keitt<br>MES=%{x}<br>avg of TON_HORA=%{y}<extra></extra>",
         "legendgroup": "2021",
         "marker": {
          "color": "#EF553B",
          "pattern": {
           "shape": ""
          }
         },
         "name": "2021",
         "offsetgroup": "2021",
         "orientation": "v",
         "showlegend": true,
         "type": "histogram",
         "x": [
          7,
          7,
          7,
          7,
          7,
          7,
          7,
          7,
          7,
          7,
          7,
          7,
          7,
          7,
          7,
          7,
          7,
          7,
          7,
          7,
          7,
          7,
          7,
          7,
          7,
          7,
          7,
          7,
          7,
          7,
          7,
          7,
          7,
          7,
          7,
          7,
          7,
          7,
          7,
          7,
          6,
          6,
          6,
          6,
          6,
          6,
          6,
          6,
          6,
          6,
          6,
          6,
          6,
          6,
          6,
          6,
          6,
          6,
          6,
          6,
          6,
          6,
          6,
          6,
          6,
          6,
          6,
          6,
          6,
          6,
          6,
          6,
          6,
          6,
          6,
          6,
          6,
          6,
          6,
          6,
          6,
          6,
          6,
          6,
          6,
          6,
          6,
          6,
          6,
          6,
          6,
          6,
          6,
          6,
          6,
          6,
          6,
          6,
          6,
          6,
          6,
          6,
          6,
          6,
          6,
          6,
          6,
          6,
          6,
          6,
          6,
          5,
          5,
          5,
          5,
          5,
          5,
          5,
          5,
          5,
          5,
          5,
          5,
          5,
          5,
          5,
          5,
          5,
          5,
          5,
          5,
          5,
          5,
          5,
          5,
          5,
          5,
          5,
          5,
          5,
          5,
          5,
          5,
          5,
          5,
          5,
          5,
          5,
          5,
          5,
          5,
          5,
          5,
          5,
          5,
          5,
          5,
          5,
          5,
          5,
          5,
          5,
          5,
          5,
          5,
          5,
          5,
          5,
          5,
          5,
          4,
          4,
          4,
          4,
          4,
          4,
          4,
          4,
          4,
          4,
          4,
          4,
          4,
          4,
          4,
          4,
          4,
          4,
          4,
          4,
          4,
          4,
          4,
          4,
          4,
          4,
          4,
          4,
          4,
          4,
          4,
          4,
          4,
          4,
          4,
          4,
          4,
          4,
          4,
          4,
          4,
          4,
          4
         ],
         "xaxis": "x",
         "y": [
          11.98,
          17.22,
          10.12,
          12.65,
          18.65,
          4.69,
          14.95,
          15.04,
          20.13,
          6,
          16.5,
          17.12,
          17.89,
          16.44,
          11.7,
          14.69,
          8.79,
          8.61,
          13.88,
          7.51,
          15.73,
          15.98,
          18.07,
          7.33,
          4.87,
          15.37,
          15.22,
          11.31,
          15.23,
          13.94,
          17.97,
          17.29,
          17.93,
          7.79,
          16.55,
          12.74,
          15.04,
          7.72,
          7.31,
          12.33,
          8.89,
          8.1,
          7.6,
          14.36,
          11.39,
          10.06,
          2.67,
          10.14,
          13.53,
          15.28,
          6.06,
          19.38,
          11.93,
          3.68,
          5.78,
          7.53,
          8.38,
          9.22,
          6.7,
          6.53,
          11.14,
          11.53,
          13.58,
          4.83,
          13.32,
          9.66,
          18.46,
          14.31,
          14.49,
          12.56,
          1.45,
          13.6,
          14.92,
          12.81,
          16.68,
          17.53,
          7.18,
          9.86,
          9.11,
          5.95,
          14.84,
          8.97,
          6.44,
          15.84,
          11.55,
          8.09,
          12.48,
          15.07,
          14.12,
          15.25,
          14.13,
          8.92,
          12.41,
          14.38,
          10.37,
          14.62,
          15.72,
          16.79,
          18.95,
          17.41,
          23.22,
          21.31,
          3.89,
          18.91,
          14.14,
          14.21,
          11.65,
          11.54,
          18.02,
          11.26,
          18.88,
          18.44,
          15.22,
          19.24,
          10.23,
          21.15,
          12.66,
          18.5,
          15.52,
          10.34,
          12.79,
          6.86,
          10.31,
          21.09,
          18.36,
          23.42,
          25.41,
          19.74,
          11.7,
          17.15,
          13.72,
          10.37,
          16.24,
          22.09,
          20.23,
          18.83,
          9.37,
          20.26,
          13.46,
          15.38,
          5.52,
          8.45,
          19.1,
          8.92,
          21.04,
          13.16,
          24.93,
          19.04,
          20.72,
          15.91,
          12.39,
          15.5,
          17.54,
          12.19,
          16.35,
          16.71,
          13.5,
          17.85,
          14.76,
          14.49,
          18.58,
          18.19,
          19.1,
          17.57,
          13.52,
          18.35,
          17.65,
          20.15,
          13.73,
          17.7,
          10,
          19.41,
          15.19,
          18.87,
          20.06,
          7.44,
          15.44,
          18.08,
          14.52,
          9.91,
          16.93,
          15.17,
          8.62,
          6.26,
          17.88,
          21.75,
          18,
          21.19,
          19.48,
          19.95,
          10.86,
          14.02,
          14.43,
          16.31,
          16.98,
          8.2,
          16.41,
          11.61,
          17.04,
          12.59,
          18.65,
          15.28,
          12.79,
          6.55,
          15.7,
          10.91,
          9.12,
          13.35,
          17.42,
          13.6,
          14.22,
          15.65,
          14.4
         ],
         "yaxis": "y"
        },
        {
         "alignmentgroup": "True",
         "bingroup": "x",
         "histfunc": "avg",
         "hovertemplate": "ANO=2021<br>VARIEDADE=Tommy<br>MES=%{x}<br>avg of TON_HORA=%{y}<extra></extra>",
         "legendgroup": "2021",
         "marker": {
          "color": "#EF553B",
          "pattern": {
           "shape": ""
          }
         },
         "name": "2021",
         "offsetgroup": "2021",
         "orientation": "v",
         "showlegend": false,
         "type": "histogram",
         "x": [
          7,
          7,
          7,
          7,
          7,
          7,
          7,
          7,
          7,
          7,
          7,
          7,
          7,
          7,
          7,
          7,
          7,
          7,
          7,
          7,
          7,
          7,
          7,
          7,
          7,
          7,
          7,
          7,
          7,
          7,
          7,
          7,
          7,
          7,
          7,
          7,
          7,
          7,
          7,
          7,
          7,
          7,
          7,
          7,
          7,
          7,
          7,
          7,
          7,
          7,
          7,
          7,
          7,
          7,
          7,
          7,
          7,
          7,
          7,
          7,
          7,
          6,
          6,
          6,
          6,
          6,
          6,
          6,
          6,
          6,
          6,
          6,
          6,
          6,
          6,
          6,
          6,
          6,
          6,
          6,
          6,
          6,
          6,
          5,
          5,
          5,
          5,
          5,
          5,
          5,
          5,
          5,
          5,
          5,
          5,
          5,
          5,
          5,
          5,
          5,
          5,
          5,
          5,
          5,
          5,
          5,
          5,
          5,
          5,
          5,
          5,
          5,
          5,
          5,
          5,
          5,
          5,
          5,
          5,
          5,
          5,
          5,
          5,
          5,
          5,
          5,
          5,
          5,
          5,
          5,
          5,
          5,
          5,
          5,
          5,
          5,
          5,
          5,
          5,
          5,
          5,
          5,
          5,
          4,
          4,
          4,
          4,
          4,
          4,
          4,
          4,
          4,
          4,
          4,
          4,
          4,
          4,
          4,
          4,
          4,
          4,
          4,
          4,
          4,
          4,
          4,
          4,
          4,
          4,
          4,
          4,
          4,
          4,
          4,
          4,
          4,
          4,
          4,
          4,
          4,
          4,
          4,
          4,
          4,
          4,
          4,
          4,
          4,
          4,
          4,
          4,
          4,
          4,
          4,
          4,
          4,
          4,
          4,
          4,
          4,
          4,
          4,
          4,
          4,
          4,
          4,
          4
         ],
         "xaxis": "x2",
         "y": [
          11.31,
          9.5,
          8.58,
          10.79,
          7.71,
          9.77,
          8.66,
          6.31,
          9.83,
          5.52,
          10.56,
          8.78,
          10.6,
          10.33,
          11.2,
          7.83,
          3.71,
          7.66,
          12.52,
          10.33,
          6.19,
          11.13,
          9.76,
          8.53,
          7.18,
          10.75,
          10.48,
          4.06,
          9.73,
          10.76,
          7.37,
          8.63,
          9.31,
          6.11,
          9.7,
          6.15,
          8.6,
          9.12,
          9.8,
          4.51,
          8.63,
          10.21,
          7.4,
          9.23,
          9.32,
          3.53,
          9.26,
          7.58,
          9.72,
          10.19,
          6.76,
          8.8,
          6.9,
          7.86,
          8.52,
          4.65,
          8.8,
          6.55,
          8.46,
          7.63,
          9.09,
          10.8,
          8.34,
          3.33,
          8.25,
          8.24,
          8.61,
          7.7,
          6.54,
          8.62,
          8.97,
          4.21,
          10.1,
          10.49,
          8.59,
          8.23,
          6.59,
          11.81,
          15.04,
          12.02,
          5.8,
          10.81,
          7.43,
          10.72,
          6.41,
          11.1,
          12.81,
          10.96,
          11.52,
          10.06,
          12.93,
          4.18,
          11.48,
          9.88,
          9.76,
          11.36,
          11.61,
          10.32,
          9.53,
          5.99,
          9.44,
          11.06,
          10.99,
          10.45,
          11.45,
          13.55,
          6.41,
          11.96,
          12.88,
          10.31,
          10.68,
          12.37,
          10.34,
          10.69,
          11.95,
          8.45,
          4.79,
          9.14,
          12.48,
          12.2,
          11.91,
          12.39,
          11.16,
          13.37,
          3.72,
          12.29,
          7.29,
          11.59,
          12.97,
          12.19,
          12.85,
          11.66,
          11.27,
          11.38,
          11.19,
          9.75,
          9.36,
          12.05,
          6.23,
          10.42,
          9.45,
          10.16,
          10.92,
          12.77,
          11.61,
          11.27,
          8.6,
          11.96,
          10.57,
          11.88,
          11.37,
          11.35,
          11.75,
          11.31,
          8.82,
          9.81,
          7.91,
          9.25,
          11.85,
          12.46,
          10.04,
          13.19,
          10.56,
          8.45,
          12.61,
          13.68,
          8.6,
          9.66,
          6.25,
          3.51,
          10,
          11.2,
          8.82,
          10.55,
          9.6,
          10.13,
          3.96,
          9.56,
          7.94,
          10.36,
          8.81,
          10.12,
          4.77,
          9.66,
          9.22,
          9.64,
          6.63,
          9.8,
          7,
          8.51,
          8.8,
          8.4,
          6.03,
          8.57,
          10.1,
          7.34,
          10.71,
          9.4,
          8.97,
          8.81,
          9.74,
          7.67,
          8.85,
          6.72,
          9.31,
          8.54,
          7.51
         ],
         "yaxis": "y2"
        },
        {
         "alignmentgroup": "True",
         "bingroup": "x",
         "histfunc": "avg",
         "hovertemplate": "ANO=2021<br>VARIEDADE=Palmer<br>MES=%{x}<br>avg of TON_HORA=%{y}<extra></extra>",
         "legendgroup": "2021",
         "marker": {
          "color": "#EF553B",
          "pattern": {
           "shape": ""
          }
         },
         "name": "2021",
         "offsetgroup": "2021",
         "orientation": "v",
         "showlegend": false,
         "type": "histogram",
         "x": [
          7,
          7,
          7,
          7,
          7,
          7,
          7,
          7,
          7,
          7,
          7,
          7,
          7,
          7,
          7,
          7,
          7,
          7,
          7,
          7,
          6,
          6,
          6,
          6,
          6,
          6,
          6,
          6,
          6,
          6,
          6,
          6,
          6,
          6,
          5,
          5,
          5,
          5,
          5,
          5,
          5,
          5,
          5,
          5,
          5,
          5,
          5,
          5,
          5,
          5,
          5,
          5,
          5,
          5,
          4,
          4,
          4,
          4,
          4,
          4,
          4,
          4,
          4,
          4,
          4,
          4,
          4,
          4,
          4,
          4,
          4,
          4,
          4,
          4,
          4,
          4
         ],
         "xaxis": "x3",
         "y": [
          8.49,
          12.89,
          10.93,
          11.98,
          7.81,
          11.49,
          10.6,
          10.77,
          10.87,
          11.18,
          8.65,
          9.68,
          7.54,
          5.88,
          7.46,
          8.61,
          8.57,
          8.95,
          8.3,
          10.1,
          5.63,
          8.36,
          9.22,
          6.23,
          5.93,
          7.52,
          11.37,
          11.37,
          10.99,
          8.54,
          8.26,
          8.54,
          9.5,
          11.14,
          5.7,
          11.84,
          0.98,
          11.56,
          7.25,
          11.76,
          9.91,
          9.54,
          12.1,
          9.87,
          13.75,
          13.57,
          14.02,
          12.98,
          8.3,
          11.98,
          8.57,
          17.43,
          9.8,
          8.47,
          11.41,
          7.04,
          9.91,
          10.77,
          10.45,
          12.2,
          11.55,
          8.81,
          12.85,
          11.66,
          11.47,
          7.16,
          8.83,
          9.17,
          7.88,
          8.92,
          8.82,
          9.77,
          9.98,
          6.05,
          9.16,
          5.7
         ],
         "yaxis": "y3"
        }
       ],
       "layout": {
        "annotations": [
         {
          "font": {},
          "showarrow": false,
          "text": "VARIEDADE=Keitt",
          "x": 0.15999999999999998,
          "xanchor": "center",
          "xref": "paper",
          "y": 1,
          "yanchor": "bottom",
          "yref": "paper"
         },
         {
          "font": {},
          "showarrow": false,
          "text": "VARIEDADE=Tommy",
          "x": 0.49999999999999994,
          "xanchor": "center",
          "xref": "paper",
          "y": 1,
          "yanchor": "bottom",
          "yref": "paper"
         },
         {
          "font": {},
          "showarrow": false,
          "text": "VARIEDADE=Palmer",
          "x": 0.8399999999999999,
          "xanchor": "center",
          "xref": "paper",
          "y": 1,
          "yanchor": "bottom",
          "yref": "paper"
         }
        ],
        "barmode": "relative",
        "height": 500,
        "legend": {
         "title": {
          "text": "ANO"
         },
         "tracegroupgap": 0
        },
        "margin": {
         "t": 60
        },
        "template": {
         "data": {
          "bar": [
           {
            "error_x": {
             "color": "#2a3f5f"
            },
            "error_y": {
             "color": "#2a3f5f"
            },
            "marker": {
             "line": {
              "color": "#E5ECF6",
              "width": 0.5
             },
             "pattern": {
              "fillmode": "overlay",
              "size": 10,
              "solidity": 0.2
             }
            },
            "type": "bar"
           }
          ],
          "barpolar": [
           {
            "marker": {
             "line": {
              "color": "#E5ECF6",
              "width": 0.5
             },
             "pattern": {
              "fillmode": "overlay",
              "size": 10,
              "solidity": 0.2
             }
            },
            "type": "barpolar"
           }
          ],
          "carpet": [
           {
            "aaxis": {
             "endlinecolor": "#2a3f5f",
             "gridcolor": "white",
             "linecolor": "white",
             "minorgridcolor": "white",
             "startlinecolor": "#2a3f5f"
            },
            "baxis": {
             "endlinecolor": "#2a3f5f",
             "gridcolor": "white",
             "linecolor": "white",
             "minorgridcolor": "white",
             "startlinecolor": "#2a3f5f"
            },
            "type": "carpet"
           }
          ],
          "choropleth": [
           {
            "colorbar": {
             "outlinewidth": 0,
             "ticks": ""
            },
            "type": "choropleth"
           }
          ],
          "contour": [
           {
            "colorbar": {
             "outlinewidth": 0,
             "ticks": ""
            },
            "colorscale": [
             [
              0,
              "#0d0887"
             ],
             [
              0.1111111111111111,
              "#46039f"
             ],
             [
              0.2222222222222222,
              "#7201a8"
             ],
             [
              0.3333333333333333,
              "#9c179e"
             ],
             [
              0.4444444444444444,
              "#bd3786"
             ],
             [
              0.5555555555555556,
              "#d8576b"
             ],
             [
              0.6666666666666666,
              "#ed7953"
             ],
             [
              0.7777777777777778,
              "#fb9f3a"
             ],
             [
              0.8888888888888888,
              "#fdca26"
             ],
             [
              1,
              "#f0f921"
             ]
            ],
            "type": "contour"
           }
          ],
          "contourcarpet": [
           {
            "colorbar": {
             "outlinewidth": 0,
             "ticks": ""
            },
            "type": "contourcarpet"
           }
          ],
          "heatmap": [
           {
            "colorbar": {
             "outlinewidth": 0,
             "ticks": ""
            },
            "colorscale": [
             [
              0,
              "#0d0887"
             ],
             [
              0.1111111111111111,
              "#46039f"
             ],
             [
              0.2222222222222222,
              "#7201a8"
             ],
             [
              0.3333333333333333,
              "#9c179e"
             ],
             [
              0.4444444444444444,
              "#bd3786"
             ],
             [
              0.5555555555555556,
              "#d8576b"
             ],
             [
              0.6666666666666666,
              "#ed7953"
             ],
             [
              0.7777777777777778,
              "#fb9f3a"
             ],
             [
              0.8888888888888888,
              "#fdca26"
             ],
             [
              1,
              "#f0f921"
             ]
            ],
            "type": "heatmap"
           }
          ],
          "heatmapgl": [
           {
            "colorbar": {
             "outlinewidth": 0,
             "ticks": ""
            },
            "colorscale": [
             [
              0,
              "#0d0887"
             ],
             [
              0.1111111111111111,
              "#46039f"
             ],
             [
              0.2222222222222222,
              "#7201a8"
             ],
             [
              0.3333333333333333,
              "#9c179e"
             ],
             [
              0.4444444444444444,
              "#bd3786"
             ],
             [
              0.5555555555555556,
              "#d8576b"
             ],
             [
              0.6666666666666666,
              "#ed7953"
             ],
             [
              0.7777777777777778,
              "#fb9f3a"
             ],
             [
              0.8888888888888888,
              "#fdca26"
             ],
             [
              1,
              "#f0f921"
             ]
            ],
            "type": "heatmapgl"
           }
          ],
          "histogram": [
           {
            "marker": {
             "pattern": {
              "fillmode": "overlay",
              "size": 10,
              "solidity": 0.2
             }
            },
            "type": "histogram"
           }
          ],
          "histogram2d": [
           {
            "colorbar": {
             "outlinewidth": 0,
             "ticks": ""
            },
            "colorscale": [
             [
              0,
              "#0d0887"
             ],
             [
              0.1111111111111111,
              "#46039f"
             ],
             [
              0.2222222222222222,
              "#7201a8"
             ],
             [
              0.3333333333333333,
              "#9c179e"
             ],
             [
              0.4444444444444444,
              "#bd3786"
             ],
             [
              0.5555555555555556,
              "#d8576b"
             ],
             [
              0.6666666666666666,
              "#ed7953"
             ],
             [
              0.7777777777777778,
              "#fb9f3a"
             ],
             [
              0.8888888888888888,
              "#fdca26"
             ],
             [
              1,
              "#f0f921"
             ]
            ],
            "type": "histogram2d"
           }
          ],
          "histogram2dcontour": [
           {
            "colorbar": {
             "outlinewidth": 0,
             "ticks": ""
            },
            "colorscale": [
             [
              0,
              "#0d0887"
             ],
             [
              0.1111111111111111,
              "#46039f"
             ],
             [
              0.2222222222222222,
              "#7201a8"
             ],
             [
              0.3333333333333333,
              "#9c179e"
             ],
             [
              0.4444444444444444,
              "#bd3786"
             ],
             [
              0.5555555555555556,
              "#d8576b"
             ],
             [
              0.6666666666666666,
              "#ed7953"
             ],
             [
              0.7777777777777778,
              "#fb9f3a"
             ],
             [
              0.8888888888888888,
              "#fdca26"
             ],
             [
              1,
              "#f0f921"
             ]
            ],
            "type": "histogram2dcontour"
           }
          ],
          "mesh3d": [
           {
            "colorbar": {
             "outlinewidth": 0,
             "ticks": ""
            },
            "type": "mesh3d"
           }
          ],
          "parcoords": [
           {
            "line": {
             "colorbar": {
              "outlinewidth": 0,
              "ticks": ""
             }
            },
            "type": "parcoords"
           }
          ],
          "pie": [
           {
            "automargin": true,
            "type": "pie"
           }
          ],
          "scatter": [
           {
            "marker": {
             "colorbar": {
              "outlinewidth": 0,
              "ticks": ""
             }
            },
            "type": "scatter"
           }
          ],
          "scatter3d": [
           {
            "line": {
             "colorbar": {
              "outlinewidth": 0,
              "ticks": ""
             }
            },
            "marker": {
             "colorbar": {
              "outlinewidth": 0,
              "ticks": ""
             }
            },
            "type": "scatter3d"
           }
          ],
          "scattercarpet": [
           {
            "marker": {
             "colorbar": {
              "outlinewidth": 0,
              "ticks": ""
             }
            },
            "type": "scattercarpet"
           }
          ],
          "scattergeo": [
           {
            "marker": {
             "colorbar": {
              "outlinewidth": 0,
              "ticks": ""
             }
            },
            "type": "scattergeo"
           }
          ],
          "scattergl": [
           {
            "marker": {
             "colorbar": {
              "outlinewidth": 0,
              "ticks": ""
             }
            },
            "type": "scattergl"
           }
          ],
          "scattermapbox": [
           {
            "marker": {
             "colorbar": {
              "outlinewidth": 0,
              "ticks": ""
             }
            },
            "type": "scattermapbox"
           }
          ],
          "scatterpolar": [
           {
            "marker": {
             "colorbar": {
              "outlinewidth": 0,
              "ticks": ""
             }
            },
            "type": "scatterpolar"
           }
          ],
          "scatterpolargl": [
           {
            "marker": {
             "colorbar": {
              "outlinewidth": 0,
              "ticks": ""
             }
            },
            "type": "scatterpolargl"
           }
          ],
          "scatterternary": [
           {
            "marker": {
             "colorbar": {
              "outlinewidth": 0,
              "ticks": ""
             }
            },
            "type": "scatterternary"
           }
          ],
          "surface": [
           {
            "colorbar": {
             "outlinewidth": 0,
             "ticks": ""
            },
            "colorscale": [
             [
              0,
              "#0d0887"
             ],
             [
              0.1111111111111111,
              "#46039f"
             ],
             [
              0.2222222222222222,
              "#7201a8"
             ],
             [
              0.3333333333333333,
              "#9c179e"
             ],
             [
              0.4444444444444444,
              "#bd3786"
             ],
             [
              0.5555555555555556,
              "#d8576b"
             ],
             [
              0.6666666666666666,
              "#ed7953"
             ],
             [
              0.7777777777777778,
              "#fb9f3a"
             ],
             [
              0.8888888888888888,
              "#fdca26"
             ],
             [
              1,
              "#f0f921"
             ]
            ],
            "type": "surface"
           }
          ],
          "table": [
           {
            "cells": {
             "fill": {
              "color": "#EBF0F8"
             },
             "line": {
              "color": "white"
             }
            },
            "header": {
             "fill": {
              "color": "#C8D4E3"
             },
             "line": {
              "color": "white"
             }
            },
            "type": "table"
           }
          ]
         },
         "layout": {
          "annotationdefaults": {
           "arrowcolor": "#2a3f5f",
           "arrowhead": 0,
           "arrowwidth": 1
          },
          "autotypenumbers": "strict",
          "coloraxis": {
           "colorbar": {
            "outlinewidth": 0,
            "ticks": ""
           }
          },
          "colorscale": {
           "diverging": [
            [
             0,
             "#8e0152"
            ],
            [
             0.1,
             "#c51b7d"
            ],
            [
             0.2,
             "#de77ae"
            ],
            [
             0.3,
             "#f1b6da"
            ],
            [
             0.4,
             "#fde0ef"
            ],
            [
             0.5,
             "#f7f7f7"
            ],
            [
             0.6,
             "#e6f5d0"
            ],
            [
             0.7,
             "#b8e186"
            ],
            [
             0.8,
             "#7fbc41"
            ],
            [
             0.9,
             "#4d9221"
            ],
            [
             1,
             "#276419"
            ]
           ],
           "sequential": [
            [
             0,
             "#0d0887"
            ],
            [
             0.1111111111111111,
             "#46039f"
            ],
            [
             0.2222222222222222,
             "#7201a8"
            ],
            [
             0.3333333333333333,
             "#9c179e"
            ],
            [
             0.4444444444444444,
             "#bd3786"
            ],
            [
             0.5555555555555556,
             "#d8576b"
            ],
            [
             0.6666666666666666,
             "#ed7953"
            ],
            [
             0.7777777777777778,
             "#fb9f3a"
            ],
            [
             0.8888888888888888,
             "#fdca26"
            ],
            [
             1,
             "#f0f921"
            ]
           ],
           "sequentialminus": [
            [
             0,
             "#0d0887"
            ],
            [
             0.1111111111111111,
             "#46039f"
            ],
            [
             0.2222222222222222,
             "#7201a8"
            ],
            [
             0.3333333333333333,
             "#9c179e"
            ],
            [
             0.4444444444444444,
             "#bd3786"
            ],
            [
             0.5555555555555556,
             "#d8576b"
            ],
            [
             0.6666666666666666,
             "#ed7953"
            ],
            [
             0.7777777777777778,
             "#fb9f3a"
            ],
            [
             0.8888888888888888,
             "#fdca26"
            ],
            [
             1,
             "#f0f921"
            ]
           ]
          },
          "colorway": [
           "#636efa",
           "#EF553B",
           "#00cc96",
           "#ab63fa",
           "#FFA15A",
           "#19d3f3",
           "#FF6692",
           "#B6E880",
           "#FF97FF",
           "#FECB52"
          ],
          "font": {
           "color": "#2a3f5f"
          },
          "geo": {
           "bgcolor": "white",
           "lakecolor": "white",
           "landcolor": "#E5ECF6",
           "showlakes": true,
           "showland": true,
           "subunitcolor": "white"
          },
          "hoverlabel": {
           "align": "left"
          },
          "hovermode": "closest",
          "mapbox": {
           "style": "light"
          },
          "paper_bgcolor": "white",
          "plot_bgcolor": "#E5ECF6",
          "polar": {
           "angularaxis": {
            "gridcolor": "white",
            "linecolor": "white",
            "ticks": ""
           },
           "bgcolor": "#E5ECF6",
           "radialaxis": {
            "gridcolor": "white",
            "linecolor": "white",
            "ticks": ""
           }
          },
          "scene": {
           "xaxis": {
            "backgroundcolor": "#E5ECF6",
            "gridcolor": "white",
            "gridwidth": 2,
            "linecolor": "white",
            "showbackground": true,
            "ticks": "",
            "zerolinecolor": "white"
           },
           "yaxis": {
            "backgroundcolor": "#E5ECF6",
            "gridcolor": "white",
            "gridwidth": 2,
            "linecolor": "white",
            "showbackground": true,
            "ticks": "",
            "zerolinecolor": "white"
           },
           "zaxis": {
            "backgroundcolor": "#E5ECF6",
            "gridcolor": "white",
            "gridwidth": 2,
            "linecolor": "white",
            "showbackground": true,
            "ticks": "",
            "zerolinecolor": "white"
           }
          },
          "shapedefaults": {
           "line": {
            "color": "#2a3f5f"
           }
          },
          "ternary": {
           "aaxis": {
            "gridcolor": "white",
            "linecolor": "white",
            "ticks": ""
           },
           "baxis": {
            "gridcolor": "white",
            "linecolor": "white",
            "ticks": ""
           },
           "bgcolor": "#E5ECF6",
           "caxis": {
            "gridcolor": "white",
            "linecolor": "white",
            "ticks": ""
           }
          },
          "title": {
           "x": 0.05
          },
          "xaxis": {
           "automargin": true,
           "gridcolor": "white",
           "linecolor": "white",
           "ticks": "",
           "title": {
            "standoff": 15
           },
           "zerolinecolor": "white",
           "zerolinewidth": 2
          },
          "yaxis": {
           "automargin": true,
           "gridcolor": "white",
           "linecolor": "white",
           "ticks": "",
           "title": {
            "standoff": 15
           },
           "zerolinecolor": "white",
           "zerolinewidth": 2
          }
         }
        },
        "width": 1000,
        "xaxis": {
         "anchor": "y",
         "domain": [
          0,
          0.31999999999999995
         ],
         "title": {
          "text": "MES"
         }
        },
        "xaxis2": {
         "anchor": "y2",
         "domain": [
          0.33999999999999997,
          0.6599999999999999
         ],
         "matches": "x",
         "title": {
          "text": "MES"
         }
        },
        "xaxis3": {
         "anchor": "y3",
         "domain": [
          0.6799999999999999,
          0.9999999999999999
         ],
         "matches": "x",
         "title": {
          "text": "MES"
         }
        },
        "yaxis": {
         "anchor": "x",
         "domain": [
          0,
          1
         ],
         "title": {
          "text": "avg of TON_HORA"
         }
        },
        "yaxis2": {
         "anchor": "x2",
         "domain": [
          0,
          1
         ],
         "matches": "y",
         "showticklabels": false
        },
        "yaxis3": {
         "anchor": "x3",
         "domain": [
          0,
          1
         ],
         "matches": "y",
         "showticklabels": false
        }
       }
      }
     },
     "metadata": {},
     "output_type": "display_data"
    }
   ],
   "source": [
    "fig = px.histogram(df,x = 'MES',y = 'TON_HORA', histfunc  = 'avg',color = 'ANO', facet_col = 'VARIEDADE' )\n",
    "fig.update_layout(height = 500, width = 1000)\n",
    "fig"
   ]
  },
  {
   "cell_type": "code",
   "execution_count": 655,
   "metadata": {},
   "outputs": [
    {
     "data": {
      "application/vnd.plotly.v1+json": {
       "config": {
        "plotlyServerURL": "https://plot.ly"
       },
       "data": [
        {
         "legendgroup": "2021",
         "line": {
          "color": "#636efa",
          "dash": "solid"
         },
         "marker": {
          "symbol": "circle"
         },
         "mode": "markers+lines",
         "name": "2021",
         "orientation": "v",
         "showlegend": true,
         "type": "scatter",
         "x": [
          1,
          7,
          8,
          9,
          13,
          14,
          15,
          16,
          21,
          22,
          23,
          28,
          30
         ],
         "xaxis": "x9",
         "y": [
          7.43,
          6.05,
          9.875,
          8.82,
          8.92,
          8.525,
          9.153333333333334,
          12.254999999999999,
          8.81,
          11.875,
          10.61,
          9.91,
          9.225
         ],
         "yaxis": "y9"
        },
        {
         "legendgroup": "2021",
         "line": {
          "color": "#636efa",
          "dash": "solid"
         },
         "marker": {
          "symbol": "circle"
         },
         "mode": "markers+lines",
         "name": "2021",
         "orientation": "v",
         "showlegend": false,
         "type": "scatter",
         "x": [
          4,
          6,
          14,
          20,
          21,
          22,
          26,
          27,
          28,
          29
         ],
         "xaxis": "x10",
         "y": [
          8.47,
          9.8,
          13,
          10.14,
          12.714999999999998,
          9.54,
          9.91,
          10.19,
          6.41,
          5.7
         ],
         "yaxis": "y10"
        },
        {
         "legendgroup": "2021",
         "line": {
          "color": "#636efa",
          "dash": "solid"
         },
         "marker": {
          "symbol": "circle"
         },
         "mode": "markers+lines",
         "name": "2021",
         "orientation": "v",
         "showlegend": false,
         "type": "scatter",
         "x": [
          1,
          2,
          3,
          4,
          8,
          16,
          17,
          18,
          24,
          30
         ],
         "xaxis": "x11",
         "y": [
          10.32,
          8.399999999999999,
          10.299999999999999,
          11.37,
          7.52,
          5.93,
          6.23,
          9.22,
          8.36,
          5.63
         ],
         "yaxis": "y11"
        },
        {
         "legendgroup": "2021",
         "line": {
          "color": "#636efa",
          "dash": "solid"
         },
         "marker": {
          "symbol": "circle"
         },
         "mode": "markers+lines",
         "name": "2021",
         "orientation": "v",
         "showlegend": false,
         "type": "scatter",
         "x": [
          1,
          7,
          8,
          9,
          10,
          13,
          20,
          21,
          22,
          23,
          27,
          28,
          29,
          30
         ],
         "xaxis": "x12",
         "y": [
          9.116666666666667,
          8.57,
          8.61,
          7.46,
          5.88,
          7.54,
          9.68,
          8.65,
          11.024999999999999,
          10.684999999999999,
          11.49,
          7.81,
          11.933333333333332,
          8.49
         ],
         "yaxis": "y12"
        },
        {
         "legendgroup": "2021",
         "line": {
          "color": "#636efa",
          "dash": "solid"
         },
         "marker": {
          "symbol": "circle"
         },
         "mode": "markers+lines",
         "name": "2021",
         "orientation": "v",
         "showlegend": false,
         "type": "scatter",
         "x": [
          1,
          6,
          7,
          8,
          9,
          10,
          13,
          14,
          15,
          16,
          17,
          20,
          21,
          22,
          23,
          27,
          28,
          29,
          30
         ],
         "xaxis": "x5",
         "y": [
          8.186,
          8.74,
          9.304,
          7.95,
          7.984999999999999,
          8.681999999999999,
          9.036666666666667,
          7.883333333333334,
          9.656666666666666,
          8.236666666666666,
          8.17,
          11.579999999999998,
          11.5625,
          10.55,
          8.846666666666666,
          11.469999999999999,
          11.273333333333333,
          10.280000000000001,
          11.883333333333333
         ],
         "yaxis": "y5"
        },
        {
         "legendgroup": "2021",
         "line": {
          "color": "#636efa",
          "dash": "solid"
         },
         "marker": {
          "symbol": "circle"
         },
         "mode": "markers+lines",
         "name": "2021",
         "orientation": "v",
         "showlegend": false,
         "type": "scatter",
         "x": [
          4,
          5,
          6,
          11,
          12,
          13,
          14,
          15,
          18,
          19,
          20,
          21,
          22,
          25,
          26,
          27,
          28,
          29
         ],
         "xaxis": "x6",
         "y": [
          10.54,
          9.45,
          9.562000000000001,
          11.285,
          11.27,
          11.424999999999999,
          10.135,
          10.485,
          10.76,
          11.290000000000001,
          11.96,
          10.47,
          9.586,
          9.925,
          11.485,
          8.825,
          11.3675,
          10.26
         ],
         "yaxis": "y6"
        },
        {
         "legendgroup": "2021",
         "line": {
          "color": "#636efa",
          "dash": "solid"
         },
         "marker": {
          "symbol": "circle"
         },
         "mode": "markers+lines",
         "name": "2021",
         "orientation": "v",
         "showlegend": false,
         "type": "scatter",
         "x": [
          1,
          3,
          4,
          8,
          9,
          10,
          11,
          15,
          16,
          17,
          18,
          19,
          24
         ],
         "xaxis": "x7",
         "y": [
          9.120000000000001,
          5.8,
          12.956666666666665,
          7.41,
          8.59,
          10.49,
          7.154999999999999,
          8.97,
          7.58,
          7.7,
          8.425,
          6.640000000000001,
          10.8
         ],
         "yaxis": "y7"
        },
        {
         "legendgroup": "2021",
         "line": {
          "color": "#636efa",
          "dash": "solid"
         },
         "marker": {
          "symbol": "circle"
         },
         "mode": "markers+lines",
         "name": "2021",
         "orientation": "v",
         "showlegend": false,
         "type": "scatter",
         "x": [
          1,
          7,
          9,
          10,
          13,
          14,
          15,
          16,
          20,
          21,
          22,
          23,
          24,
          27,
          28,
          29,
          30,
          31
         ],
         "xaxis": "x8",
         "y": [
          9.09,
          8.045,
          7.675000000000001,
          6.585,
          7.86,
          7.486666666666667,
          8.056000000000001,
          8.5275,
          8.15,
          8.016666666666667,
          7.9799999999999995,
          10.48,
          8.923333333333334,
          8.41,
          10.2275,
          8.04,
          8.6425,
          9.578
         ],
         "yaxis": "y8"
        },
        {
         "legendgroup": "2021",
         "line": {
          "color": "#636efa",
          "dash": "solid"
         },
         "marker": {
          "symbol": "circle"
         },
         "mode": "markers+lines",
         "name": "2021",
         "orientation": "v",
         "showlegend": false,
         "type": "scatter",
         "x": [
          6,
          7,
          8,
          13,
          14,
          15,
          20,
          21,
          22,
          27,
          28,
          29
         ],
         "xaxis": "x",
         "y": [
          14.756666666666668,
          14.790000000000001,
          10.015,
          13.794,
          14.815,
          11.61,
          14.466,
          17.892857142857142,
          12.07,
          13.573333333333332,
          14.487499999999999,
          15.161666666666667
         ],
         "yaxis": "y"
        },
        {
         "legendgroup": "2021",
         "line": {
          "color": "#636efa",
          "dash": "solid"
         },
         "marker": {
          "symbol": "circle"
         },
         "mode": "markers+lines",
         "name": "2021",
         "orientation": "v",
         "showlegend": false,
         "type": "scatter",
         "x": [
          4,
          5,
          6,
          11,
          12,
          13,
          14,
          18,
          19,
          20,
          21,
          25,
          26,
          27,
          28
         ],
         "xaxis": "x2",
         "y": [
          17.7,
          17.2825,
          18.58,
          15.700000000000001,
          14.882857142857144,
          19.133333333333333,
          12.156666666666666,
          13.655000000000001,
          16.188333333333333,
          15.577499999999999,
          24.415,
          16.58666666666667,
          12.802000000000001,
          15.82,
          16.830000000000002
         ],
         "yaxis": "y2"
        },
        {
         "legendgroup": "2021",
         "line": {
          "color": "#636efa",
          "dash": "solid"
         },
         "marker": {
          "symbol": "circle"
         },
         "mode": "markers+lines",
         "name": "2021",
         "orientation": "v",
         "showlegend": false,
         "type": "scatter",
         "x": [
          1,
          2,
          3,
          8,
          9,
          10,
          11,
          15,
          16,
          17,
          18,
          22,
          23,
          24,
          29,
          30
         ],
         "xaxis": "x3",
         "y": [
          16.05333333333333,
          12.885,
          17.281666666666666,
          16.255,
          12.868571428571428,
          12.858333333333334,
          9.05,
          12.072,
          13.776666666666666,
          10.7025,
          11.5675,
          10.695,
          6.881666666666667,
          12.456666666666665,
          10.336,
          10.068000000000001
         ],
         "yaxis": "y3"
        },
        {
         "legendgroup": "2021",
         "line": {
          "color": "#636efa",
          "dash": "solid"
         },
         "marker": {
          "symbol": "circle"
         },
         "mode": "markers+lines",
         "name": "2021",
         "orientation": "v",
         "showlegend": false,
         "type": "scatter",
         "x": [
          1,
          7,
          8,
          9,
          13,
          14,
          15,
          20,
          22,
          23,
          27,
          28,
          29,
          30
         ],
         "xaxis": "x4",
         "y": [
          9.82,
          11.379999999999999,
          13.7525,
          16.4,
          12.9225,
          12.373333333333335,
          8.61,
          11.726666666666667,
          16.44,
          15.528,
          14.995,
          11.67,
          11.385,
          14.6
         ],
         "yaxis": "y4"
        },
        {
         "legendgroup": "2022",
         "line": {
          "color": "#EF553B",
          "dash": "solid"
         },
         "marker": {
          "symbol": "circle"
         },
         "mode": "markers+lines",
         "name": "2022",
         "orientation": "v",
         "showlegend": true,
         "type": "scatter",
         "x": [
          12,
          13,
          18,
          19,
          26,
          27,
          28
         ],
         "xaxis": "x9",
         "y": [
          13.653333333333334,
          9.370000000000001,
          12.18,
          11.076,
          13.495000000000001,
          1.82,
          14.15
         ],
         "yaxis": "y9"
        },
        {
         "legendgroup": "2022",
         "line": {
          "color": "#EF553B",
          "dash": "solid"
         },
         "marker": {
          "symbol": "circle"
         },
         "mode": "markers+lines",
         "name": "2022",
         "orientation": "v",
         "showlegend": false,
         "type": "scatter",
         "x": [
          3,
          10,
          11,
          12,
          13,
          14,
          18,
          19,
          20,
          21,
          22,
          23,
          25
         ],
         "xaxis": "x10",
         "y": [
          9.535,
          10.64,
          15.96,
          10.83,
          10.440000000000001,
          10.41,
          12.44,
          10.546666666666667,
          10.36,
          4.15,
          10.24,
          12.143333333333333,
          14.31
         ],
         "yaxis": "y10"
        },
        {
         "legendgroup": "2022",
         "line": {
          "color": "#EF553B",
          "dash": "solid"
         },
         "marker": {
          "symbol": "circle"
         },
         "mode": "markers+lines",
         "name": "2022",
         "orientation": "v",
         "showlegend": false,
         "type": "scatter",
         "x": [
          1,
          2,
          3,
          4,
          8,
          10,
          13,
          14,
          15,
          16,
          17,
          20,
          21,
          22,
          23,
          28,
          30
         ],
         "xaxis": "x11",
         "y": [
          10.78,
          16.7,
          0.23,
          14.72,
          17.89,
          12.298333333333334,
          10.26,
          14.5,
          13.103333333333333,
          12.73,
          13.6675,
          9.88,
          13.163333333333332,
          12.26,
          9.682500000000001,
          12.33,
          6.425
         ],
         "yaxis": "y11"
        },
        {
         "legendgroup": "2022",
         "line": {
          "color": "#EF553B",
          "dash": "solid"
         },
         "marker": {
          "symbol": "circle"
         },
         "mode": "markers+lines",
         "name": "2022",
         "orientation": "v",
         "showlegend": false,
         "type": "scatter",
         "x": [
          1,
          7,
          8
         ],
         "xaxis": "x12",
         "y": [
          10.08,
          10.68,
          4.61
         ],
         "yaxis": "y12"
        },
        {
         "legendgroup": "2022",
         "line": {
          "color": "#EF553B",
          "dash": "solid"
         },
         "marker": {
          "symbol": "circle"
         },
         "mode": "markers+lines",
         "name": "2022",
         "orientation": "v",
         "showlegend": false,
         "type": "scatter",
         "x": [
          12,
          13,
          14,
          18,
          19,
          26,
          27,
          28,
          29
         ],
         "xaxis": "x5",
         "y": [
          10.345,
          9.0275,
          9.535,
          7.32,
          10.676666666666668,
          11.08,
          10.4575,
          8.262,
          7.395
         ],
         "yaxis": "y5"
        },
        {
         "legendgroup": "2022",
         "line": {
          "color": "#EF553B",
          "dash": "solid"
         },
         "marker": {
          "symbol": "circle"
         },
         "mode": "markers+lines",
         "name": "2022",
         "orientation": "v",
         "showlegend": false,
         "type": "scatter",
         "x": [
          3,
          6,
          10,
          11,
          12,
          13,
          14,
          17,
          18,
          19,
          20,
          21,
          22,
          23,
          24,
          25,
          26,
          31
         ],
         "xaxis": "x6",
         "y": [
          9.546666666666667,
          11.06,
          11.625,
          9.858,
          10.600000000000001,
          11.4375,
          11.39,
          11.934999999999999,
          10.815,
          12.153333333333334,
          12.556666666666667,
          11.67,
          10.846666666666666,
          8.57,
          11.748333333333333,
          12.265,
          9.45,
          10.43
         ],
         "yaxis": "y6"
        },
        {
         "legendgroup": "2022",
         "line": {
          "color": "#EF553B",
          "dash": "solid"
         },
         "marker": {
          "symbol": "circle"
         },
         "mode": "markers+lines",
         "name": "2022",
         "orientation": "v",
         "showlegend": false,
         "type": "scatter",
         "x": [
          1,
          2,
          3,
          4,
          7,
          8,
          9,
          10,
          11,
          13,
          14,
          15,
          16,
          17,
          22,
          23,
          28,
          29,
          30
         ],
         "xaxis": "x7",
         "y": [
          11.64,
          11.862,
          11.49,
          8.89,
          14.71,
          10.18,
          10.9925,
          10.296666666666667,
          13.209999999999999,
          7.443333333333334,
          10.686,
          12.75,
          12.89,
          13.796000000000001,
          12.94,
          12.744,
          9.77,
          8.685,
          10.96
         ],
         "yaxis": "y7"
        },
        {
         "legendgroup": "2022",
         "line": {
          "color": "#EF553B",
          "dash": "solid"
         },
         "marker": {
          "symbol": "circle"
         },
         "mode": "markers+lines",
         "name": "2022",
         "orientation": "v",
         "showlegend": false,
         "type": "scatter",
         "x": [
          1,
          6,
          8,
          12
         ],
         "xaxis": "x8",
         "y": [
          13.455,
          8.1675,
          9.415,
          9.3
         ],
         "yaxis": "y8"
        },
        {
         "legendgroup": "2022",
         "line": {
          "color": "#EF553B",
          "dash": "solid"
         },
         "marker": {
          "symbol": "circle"
         },
         "mode": "markers+lines",
         "name": "2022",
         "orientation": "v",
         "showlegend": false,
         "type": "scatter",
         "x": [
          12,
          13,
          14,
          18,
          19,
          26,
          28
         ],
         "xaxis": "x",
         "y": [
          10.256666666666666,
          15.5875,
          12.173333333333332,
          13.01,
          15.396,
          14.32,
          13.385
         ],
         "yaxis": "y"
        },
        {
         "legendgroup": "2022",
         "line": {
          "color": "#EF553B",
          "dash": "solid"
         },
         "marker": {
          "symbol": "circle"
         },
         "mode": "markers+lines",
         "name": "2022",
         "orientation": "v",
         "showlegend": false,
         "type": "scatter",
         "x": [
          6,
          10,
          11,
          12,
          14,
          17,
          18,
          19,
          20,
          21,
          22,
          23,
          24,
          26,
          31
         ],
         "xaxis": "x2",
         "y": [
          13.45,
          14.294,
          18.106666666666666,
          17.63,
          12.56,
          12.612,
          11.783333333333333,
          16.6,
          13.105,
          21.79,
          19.05333333333333,
          15.437999999999999,
          16.203333333333333,
          13.05,
          19.243333333333336
         ],
         "yaxis": "y2"
        },
        {
         "legendgroup": "2022",
         "line": {
          "color": "#EF553B",
          "dash": "solid"
         },
         "marker": {
          "symbol": "circle"
         },
         "mode": "markers+lines",
         "name": "2022",
         "orientation": "v",
         "showlegend": false,
         "type": "scatter",
         "x": [
          1,
          2,
          3,
          7,
          8,
          9,
          13,
          14,
          15,
          16,
          17,
          20,
          21,
          22,
          23,
          28,
          29,
          30
         ],
         "xaxis": "x3",
         "y": [
          20.555,
          17.27,
          19.94,
          17.496666666666666,
          14.790000000000001,
          20.0525,
          16.69,
          16.2775,
          19.858333333333334,
          19.99,
          9.56,
          11.905000000000001,
          18.193333333333335,
          15.339999999999998,
          17.56,
          15.1475,
          17.50875,
          14.793333333333335
         ],
         "yaxis": "y3"
        },
        {
         "legendgroup": "2022",
         "line": {
          "color": "#EF553B",
          "dash": "solid"
         },
         "marker": {
          "symbol": "circle"
         },
         "mode": "markers+lines",
         "name": "2022",
         "orientation": "v",
         "showlegend": false,
         "type": "scatter",
         "x": [
          5,
          6,
          7,
          12
         ],
         "xaxis": "x4",
         "y": [
          17.45,
          10.8275,
          16.45777777777778,
          13.042857142857143
         ],
         "yaxis": "y4"
        }
       ],
       "layout": {
        "annotations": [
         {
          "font": {},
          "showarrow": false,
          "text": "MES=4",
          "x": 0.11499999999999999,
          "xanchor": "center",
          "xref": "paper",
          "y": 0.9999999999999998,
          "yanchor": "bottom",
          "yref": "paper"
         },
         {
          "font": {},
          "showarrow": false,
          "text": "MES=5",
          "x": 0.365,
          "xanchor": "center",
          "xref": "paper",
          "y": 0.9999999999999998,
          "yanchor": "bottom",
          "yref": "paper"
         },
         {
          "font": {},
          "showarrow": false,
          "text": "MES=6",
          "x": 0.615,
          "xanchor": "center",
          "xref": "paper",
          "y": 0.9999999999999998,
          "yanchor": "bottom",
          "yref": "paper"
         },
         {
          "font": {},
          "showarrow": false,
          "text": "MES=7",
          "x": 0.865,
          "xanchor": "center",
          "xref": "paper",
          "y": 0.9999999999999998,
          "yanchor": "bottom",
          "yref": "paper"
         },
         {
          "font": {},
          "showarrow": false,
          "text": "VARIEDADE=Keitt",
          "textangle": 90,
          "x": 0.98,
          "xanchor": "left",
          "xref": "paper",
          "y": 0.15666666666666665,
          "yanchor": "middle",
          "yref": "paper"
         },
         {
          "font": {},
          "showarrow": false,
          "text": "VARIEDADE=Tommy",
          "textangle": 90,
          "x": 0.98,
          "xanchor": "left",
          "xref": "paper",
          "y": 0.4999999999999999,
          "yanchor": "middle",
          "yref": "paper"
         },
         {
          "font": {},
          "showarrow": false,
          "text": "VARIEDADE=Palmer",
          "textangle": 90,
          "x": 0.98,
          "xanchor": "left",
          "xref": "paper",
          "y": 0.8433333333333332,
          "yanchor": "middle",
          "yref": "paper"
         }
        ],
        "height": 600,
        "hovermode": "x unified",
        "legend": {
         "title": {
          "text": "ANO"
         },
         "tracegroupgap": 0
        },
        "margin": {
         "t": 60
        },
        "template": {
         "data": {
          "bar": [
           {
            "error_x": {
             "color": "#2a3f5f"
            },
            "error_y": {
             "color": "#2a3f5f"
            },
            "marker": {
             "line": {
              "color": "#E5ECF6",
              "width": 0.5
             },
             "pattern": {
              "fillmode": "overlay",
              "size": 10,
              "solidity": 0.2
             }
            },
            "type": "bar"
           }
          ],
          "barpolar": [
           {
            "marker": {
             "line": {
              "color": "#E5ECF6",
              "width": 0.5
             },
             "pattern": {
              "fillmode": "overlay",
              "size": 10,
              "solidity": 0.2
             }
            },
            "type": "barpolar"
           }
          ],
          "carpet": [
           {
            "aaxis": {
             "endlinecolor": "#2a3f5f",
             "gridcolor": "white",
             "linecolor": "white",
             "minorgridcolor": "white",
             "startlinecolor": "#2a3f5f"
            },
            "baxis": {
             "endlinecolor": "#2a3f5f",
             "gridcolor": "white",
             "linecolor": "white",
             "minorgridcolor": "white",
             "startlinecolor": "#2a3f5f"
            },
            "type": "carpet"
           }
          ],
          "choropleth": [
           {
            "colorbar": {
             "outlinewidth": 0,
             "ticks": ""
            },
            "type": "choropleth"
           }
          ],
          "contour": [
           {
            "colorbar": {
             "outlinewidth": 0,
             "ticks": ""
            },
            "colorscale": [
             [
              0,
              "#0d0887"
             ],
             [
              0.1111111111111111,
              "#46039f"
             ],
             [
              0.2222222222222222,
              "#7201a8"
             ],
             [
              0.3333333333333333,
              "#9c179e"
             ],
             [
              0.4444444444444444,
              "#bd3786"
             ],
             [
              0.5555555555555556,
              "#d8576b"
             ],
             [
              0.6666666666666666,
              "#ed7953"
             ],
             [
              0.7777777777777778,
              "#fb9f3a"
             ],
             [
              0.8888888888888888,
              "#fdca26"
             ],
             [
              1,
              "#f0f921"
             ]
            ],
            "type": "contour"
           }
          ],
          "contourcarpet": [
           {
            "colorbar": {
             "outlinewidth": 0,
             "ticks": ""
            },
            "type": "contourcarpet"
           }
          ],
          "heatmap": [
           {
            "colorbar": {
             "outlinewidth": 0,
             "ticks": ""
            },
            "colorscale": [
             [
              0,
              "#0d0887"
             ],
             [
              0.1111111111111111,
              "#46039f"
             ],
             [
              0.2222222222222222,
              "#7201a8"
             ],
             [
              0.3333333333333333,
              "#9c179e"
             ],
             [
              0.4444444444444444,
              "#bd3786"
             ],
             [
              0.5555555555555556,
              "#d8576b"
             ],
             [
              0.6666666666666666,
              "#ed7953"
             ],
             [
              0.7777777777777778,
              "#fb9f3a"
             ],
             [
              0.8888888888888888,
              "#fdca26"
             ],
             [
              1,
              "#f0f921"
             ]
            ],
            "type": "heatmap"
           }
          ],
          "heatmapgl": [
           {
            "colorbar": {
             "outlinewidth": 0,
             "ticks": ""
            },
            "colorscale": [
             [
              0,
              "#0d0887"
             ],
             [
              0.1111111111111111,
              "#46039f"
             ],
             [
              0.2222222222222222,
              "#7201a8"
             ],
             [
              0.3333333333333333,
              "#9c179e"
             ],
             [
              0.4444444444444444,
              "#bd3786"
             ],
             [
              0.5555555555555556,
              "#d8576b"
             ],
             [
              0.6666666666666666,
              "#ed7953"
             ],
             [
              0.7777777777777778,
              "#fb9f3a"
             ],
             [
              0.8888888888888888,
              "#fdca26"
             ],
             [
              1,
              "#f0f921"
             ]
            ],
            "type": "heatmapgl"
           }
          ],
          "histogram": [
           {
            "marker": {
             "pattern": {
              "fillmode": "overlay",
              "size": 10,
              "solidity": 0.2
             }
            },
            "type": "histogram"
           }
          ],
          "histogram2d": [
           {
            "colorbar": {
             "outlinewidth": 0,
             "ticks": ""
            },
            "colorscale": [
             [
              0,
              "#0d0887"
             ],
             [
              0.1111111111111111,
              "#46039f"
             ],
             [
              0.2222222222222222,
              "#7201a8"
             ],
             [
              0.3333333333333333,
              "#9c179e"
             ],
             [
              0.4444444444444444,
              "#bd3786"
             ],
             [
              0.5555555555555556,
              "#d8576b"
             ],
             [
              0.6666666666666666,
              "#ed7953"
             ],
             [
              0.7777777777777778,
              "#fb9f3a"
             ],
             [
              0.8888888888888888,
              "#fdca26"
             ],
             [
              1,
              "#f0f921"
             ]
            ],
            "type": "histogram2d"
           }
          ],
          "histogram2dcontour": [
           {
            "colorbar": {
             "outlinewidth": 0,
             "ticks": ""
            },
            "colorscale": [
             [
              0,
              "#0d0887"
             ],
             [
              0.1111111111111111,
              "#46039f"
             ],
             [
              0.2222222222222222,
              "#7201a8"
             ],
             [
              0.3333333333333333,
              "#9c179e"
             ],
             [
              0.4444444444444444,
              "#bd3786"
             ],
             [
              0.5555555555555556,
              "#d8576b"
             ],
             [
              0.6666666666666666,
              "#ed7953"
             ],
             [
              0.7777777777777778,
              "#fb9f3a"
             ],
             [
              0.8888888888888888,
              "#fdca26"
             ],
             [
              1,
              "#f0f921"
             ]
            ],
            "type": "histogram2dcontour"
           }
          ],
          "mesh3d": [
           {
            "colorbar": {
             "outlinewidth": 0,
             "ticks": ""
            },
            "type": "mesh3d"
           }
          ],
          "parcoords": [
           {
            "line": {
             "colorbar": {
              "outlinewidth": 0,
              "ticks": ""
             }
            },
            "type": "parcoords"
           }
          ],
          "pie": [
           {
            "automargin": true,
            "type": "pie"
           }
          ],
          "scatter": [
           {
            "marker": {
             "colorbar": {
              "outlinewidth": 0,
              "ticks": ""
             }
            },
            "type": "scatter"
           }
          ],
          "scatter3d": [
           {
            "line": {
             "colorbar": {
              "outlinewidth": 0,
              "ticks": ""
             }
            },
            "marker": {
             "colorbar": {
              "outlinewidth": 0,
              "ticks": ""
             }
            },
            "type": "scatter3d"
           }
          ],
          "scattercarpet": [
           {
            "marker": {
             "colorbar": {
              "outlinewidth": 0,
              "ticks": ""
             }
            },
            "type": "scattercarpet"
           }
          ],
          "scattergeo": [
           {
            "marker": {
             "colorbar": {
              "outlinewidth": 0,
              "ticks": ""
             }
            },
            "type": "scattergeo"
           }
          ],
          "scattergl": [
           {
            "marker": {
             "colorbar": {
              "outlinewidth": 0,
              "ticks": ""
             }
            },
            "type": "scattergl"
           }
          ],
          "scattermapbox": [
           {
            "marker": {
             "colorbar": {
              "outlinewidth": 0,
              "ticks": ""
             }
            },
            "type": "scattermapbox"
           }
          ],
          "scatterpolar": [
           {
            "marker": {
             "colorbar": {
              "outlinewidth": 0,
              "ticks": ""
             }
            },
            "type": "scatterpolar"
           }
          ],
          "scatterpolargl": [
           {
            "marker": {
             "colorbar": {
              "outlinewidth": 0,
              "ticks": ""
             }
            },
            "type": "scatterpolargl"
           }
          ],
          "scatterternary": [
           {
            "marker": {
             "colorbar": {
              "outlinewidth": 0,
              "ticks": ""
             }
            },
            "type": "scatterternary"
           }
          ],
          "surface": [
           {
            "colorbar": {
             "outlinewidth": 0,
             "ticks": ""
            },
            "colorscale": [
             [
              0,
              "#0d0887"
             ],
             [
              0.1111111111111111,
              "#46039f"
             ],
             [
              0.2222222222222222,
              "#7201a8"
             ],
             [
              0.3333333333333333,
              "#9c179e"
             ],
             [
              0.4444444444444444,
              "#bd3786"
             ],
             [
              0.5555555555555556,
              "#d8576b"
             ],
             [
              0.6666666666666666,
              "#ed7953"
             ],
             [
              0.7777777777777778,
              "#fb9f3a"
             ],
             [
              0.8888888888888888,
              "#fdca26"
             ],
             [
              1,
              "#f0f921"
             ]
            ],
            "type": "surface"
           }
          ],
          "table": [
           {
            "cells": {
             "fill": {
              "color": "#EBF0F8"
             },
             "line": {
              "color": "white"
             }
            },
            "header": {
             "fill": {
              "color": "#C8D4E3"
             },
             "line": {
              "color": "white"
             }
            },
            "type": "table"
           }
          ]
         },
         "layout": {
          "annotationdefaults": {
           "arrowcolor": "#2a3f5f",
           "arrowhead": 0,
           "arrowwidth": 1
          },
          "autotypenumbers": "strict",
          "coloraxis": {
           "colorbar": {
            "outlinewidth": 0,
            "ticks": ""
           }
          },
          "colorscale": {
           "diverging": [
            [
             0,
             "#8e0152"
            ],
            [
             0.1,
             "#c51b7d"
            ],
            [
             0.2,
             "#de77ae"
            ],
            [
             0.3,
             "#f1b6da"
            ],
            [
             0.4,
             "#fde0ef"
            ],
            [
             0.5,
             "#f7f7f7"
            ],
            [
             0.6,
             "#e6f5d0"
            ],
            [
             0.7,
             "#b8e186"
            ],
            [
             0.8,
             "#7fbc41"
            ],
            [
             0.9,
             "#4d9221"
            ],
            [
             1,
             "#276419"
            ]
           ],
           "sequential": [
            [
             0,
             "#0d0887"
            ],
            [
             0.1111111111111111,
             "#46039f"
            ],
            [
             0.2222222222222222,
             "#7201a8"
            ],
            [
             0.3333333333333333,
             "#9c179e"
            ],
            [
             0.4444444444444444,
             "#bd3786"
            ],
            [
             0.5555555555555556,
             "#d8576b"
            ],
            [
             0.6666666666666666,
             "#ed7953"
            ],
            [
             0.7777777777777778,
             "#fb9f3a"
            ],
            [
             0.8888888888888888,
             "#fdca26"
            ],
            [
             1,
             "#f0f921"
            ]
           ],
           "sequentialminus": [
            [
             0,
             "#0d0887"
            ],
            [
             0.1111111111111111,
             "#46039f"
            ],
            [
             0.2222222222222222,
             "#7201a8"
            ],
            [
             0.3333333333333333,
             "#9c179e"
            ],
            [
             0.4444444444444444,
             "#bd3786"
            ],
            [
             0.5555555555555556,
             "#d8576b"
            ],
            [
             0.6666666666666666,
             "#ed7953"
            ],
            [
             0.7777777777777778,
             "#fb9f3a"
            ],
            [
             0.8888888888888888,
             "#fdca26"
            ],
            [
             1,
             "#f0f921"
            ]
           ]
          },
          "colorway": [
           "#636efa",
           "#EF553B",
           "#00cc96",
           "#ab63fa",
           "#FFA15A",
           "#19d3f3",
           "#FF6692",
           "#B6E880",
           "#FF97FF",
           "#FECB52"
          ],
          "font": {
           "color": "#2a3f5f"
          },
          "geo": {
           "bgcolor": "white",
           "lakecolor": "white",
           "landcolor": "#E5ECF6",
           "showlakes": true,
           "showland": true,
           "subunitcolor": "white"
          },
          "hoverlabel": {
           "align": "left"
          },
          "hovermode": "closest",
          "mapbox": {
           "style": "light"
          },
          "paper_bgcolor": "white",
          "plot_bgcolor": "#E5ECF6",
          "polar": {
           "angularaxis": {
            "gridcolor": "white",
            "linecolor": "white",
            "ticks": ""
           },
           "bgcolor": "#E5ECF6",
           "radialaxis": {
            "gridcolor": "white",
            "linecolor": "white",
            "ticks": ""
           }
          },
          "scene": {
           "xaxis": {
            "backgroundcolor": "#E5ECF6",
            "gridcolor": "white",
            "gridwidth": 2,
            "linecolor": "white",
            "showbackground": true,
            "ticks": "",
            "zerolinecolor": "white"
           },
           "yaxis": {
            "backgroundcolor": "#E5ECF6",
            "gridcolor": "white",
            "gridwidth": 2,
            "linecolor": "white",
            "showbackground": true,
            "ticks": "",
            "zerolinecolor": "white"
           },
           "zaxis": {
            "backgroundcolor": "#E5ECF6",
            "gridcolor": "white",
            "gridwidth": 2,
            "linecolor": "white",
            "showbackground": true,
            "ticks": "",
            "zerolinecolor": "white"
           }
          },
          "shapedefaults": {
           "line": {
            "color": "#2a3f5f"
           }
          },
          "ternary": {
           "aaxis": {
            "gridcolor": "white",
            "linecolor": "white",
            "ticks": ""
           },
           "baxis": {
            "gridcolor": "white",
            "linecolor": "white",
            "ticks": ""
           },
           "bgcolor": "#E5ECF6",
           "caxis": {
            "gridcolor": "white",
            "linecolor": "white",
            "ticks": ""
           }
          },
          "title": {
           "x": 0.05
          },
          "xaxis": {
           "automargin": true,
           "gridcolor": "white",
           "linecolor": "white",
           "ticks": "",
           "title": {
            "standoff": 15
           },
           "zerolinecolor": "white",
           "zerolinewidth": 2
          },
          "yaxis": {
           "automargin": true,
           "gridcolor": "white",
           "linecolor": "white",
           "ticks": "",
           "title": {
            "standoff": 15
           },
           "zerolinecolor": "white",
           "zerolinewidth": 2
          }
         }
        },
        "width": 1250,
        "xaxis": {
         "anchor": "y",
         "categoryorder": "category ascending",
         "domain": [
          0,
          0.22999999999999998
         ],
         "title": {
          "text": "DIA"
         }
        },
        "xaxis10": {
         "anchor": "y10",
         "categoryorder": "category ascending",
         "domain": [
          0.24999999999999997,
          0.48
         ],
         "matches": "x",
         "showticklabels": false
        },
        "xaxis11": {
         "anchor": "y11",
         "categoryorder": "category ascending",
         "domain": [
          0.49999999999999994,
          0.73
         ],
         "matches": "x",
         "showticklabels": false
        },
        "xaxis12": {
         "anchor": "y12",
         "categoryorder": "category ascending",
         "domain": [
          0.75,
          0.98
         ],
         "matches": "x",
         "showticklabels": false
        },
        "xaxis2": {
         "anchor": "y2",
         "categoryorder": "category ascending",
         "domain": [
          0.24999999999999997,
          0.48
         ],
         "matches": "x",
         "title": {
          "text": "DIA"
         }
        },
        "xaxis3": {
         "anchor": "y3",
         "categoryorder": "category ascending",
         "domain": [
          0.49999999999999994,
          0.73
         ],
         "matches": "x",
         "title": {
          "text": "DIA"
         }
        },
        "xaxis4": {
         "anchor": "y4",
         "categoryorder": "category ascending",
         "domain": [
          0.75,
          0.98
         ],
         "matches": "x",
         "title": {
          "text": "DIA"
         }
        },
        "xaxis5": {
         "anchor": "y5",
         "categoryorder": "category ascending",
         "domain": [
          0,
          0.22999999999999998
         ],
         "matches": "x",
         "showticklabels": false
        },
        "xaxis6": {
         "anchor": "y6",
         "categoryorder": "category ascending",
         "domain": [
          0.24999999999999997,
          0.48
         ],
         "matches": "x",
         "showticklabels": false
        },
        "xaxis7": {
         "anchor": "y7",
         "categoryorder": "category ascending",
         "domain": [
          0.49999999999999994,
          0.73
         ],
         "matches": "x",
         "showticklabels": false
        },
        "xaxis8": {
         "anchor": "y8",
         "categoryorder": "category ascending",
         "domain": [
          0.75,
          0.98
         ],
         "matches": "x",
         "showticklabels": false
        },
        "xaxis9": {
         "anchor": "y9",
         "categoryorder": "category ascending",
         "domain": [
          0,
          0.22999999999999998
         ],
         "matches": "x",
         "showticklabels": false
        },
        "yaxis": {
         "anchor": "x",
         "domain": [
          0,
          0.3133333333333333
         ],
         "title": {
          "text": "TON_HORA"
         }
        },
        "yaxis10": {
         "anchor": "x10",
         "domain": [
          0.6866666666666665,
          0.9999999999999998
         ],
         "matches": "y",
         "showticklabels": false
        },
        "yaxis11": {
         "anchor": "x11",
         "domain": [
          0.6866666666666665,
          0.9999999999999998
         ],
         "matches": "y",
         "showticklabels": false
        },
        "yaxis12": {
         "anchor": "x12",
         "domain": [
          0.6866666666666665,
          0.9999999999999998
         ],
         "matches": "y",
         "showticklabels": false
        },
        "yaxis2": {
         "anchor": "x2",
         "domain": [
          0,
          0.3133333333333333
         ],
         "matches": "y",
         "showticklabels": false
        },
        "yaxis3": {
         "anchor": "x3",
         "domain": [
          0,
          0.3133333333333333
         ],
         "matches": "y",
         "showticklabels": false
        },
        "yaxis4": {
         "anchor": "x4",
         "domain": [
          0,
          0.3133333333333333
         ],
         "matches": "y",
         "showticklabels": false
        },
        "yaxis5": {
         "anchor": "x5",
         "domain": [
          0.34333333333333327,
          0.6566666666666665
         ],
         "matches": "y",
         "title": {
          "text": "TON_HORA"
         }
        },
        "yaxis6": {
         "anchor": "x6",
         "domain": [
          0.34333333333333327,
          0.6566666666666665
         ],
         "matches": "y",
         "showticklabels": false
        },
        "yaxis7": {
         "anchor": "x7",
         "domain": [
          0.34333333333333327,
          0.6566666666666665
         ],
         "matches": "y",
         "showticklabels": false
        },
        "yaxis8": {
         "anchor": "x8",
         "domain": [
          0.34333333333333327,
          0.6566666666666665
         ],
         "matches": "y",
         "showticklabels": false
        },
        "yaxis9": {
         "anchor": "x9",
         "domain": [
          0.6866666666666665,
          0.9999999999999998
         ],
         "matches": "y",
         "title": {
          "text": "TON_HORA"
         }
        }
       }
      }
     },
     "metadata": {},
     "output_type": "display_data"
    }
   ],
   "source": [
    "fig = px.line(df_piv_dia_mes,x = 'DIA',y = 'TON_HORA', color = 'ANO', facet_col =  'MES', facet_row = 'VARIEDADE' )\n",
    "fig.update_layout(height = 600, width = 1250, hovermode=\"x unified\")\n",
    "fig.update_traces(mode=\"markers+lines\", hovertemplate=None)\n",
    "fig.update_xaxes(categoryorder='category ascending')\n",
    "fig"
   ]
  },
  {
   "cell_type": "code",
   "execution_count": null,
   "metadata": {},
   "outputs": [],
   "source": []
  },
  {
   "cell_type": "markdown",
   "metadata": {},
   "source": [
    "## BASE DE PRODUTIVIDADE RECENTE EMBALADEIRAS INDIVIDUAIS"
   ]
  },
  {
   "cell_type": "code",
   "execution_count": 658,
   "metadata": {},
   "outputs": [
    {
     "data": {
      "text/html": [
       "<div>\n",
       "<style scoped>\n",
       "    .dataframe tbody tr th:only-of-type {\n",
       "        vertical-align: middle;\n",
       "    }\n",
       "\n",
       "    .dataframe tbody tr th {\n",
       "        vertical-align: top;\n",
       "    }\n",
       "\n",
       "    .dataframe thead th {\n",
       "        text-align: right;\n",
       "    }\n",
       "</style>\n",
       "<table border=\"1\" class=\"dataframe\">\n",
       "  <thead>\n",
       "    <tr style=\"text-align: right;\">\n",
       "      <th></th>\n",
       "      <th>LEH_DATA</th>\n",
       "      <th>VARIEDADE</th>\n",
       "      <th>CALIBRE</th>\n",
       "      <th>LEH_QUANTIDADE</th>\n",
       "      <th>LINHAPRODUCAO</th>\n",
       "      <th>HORAS</th>\n",
       "      <th>CX_HORA</th>\n",
       "      <th>ID_PESSOA</th>\n",
       "      <th>PESSOA</th>\n",
       "      <th>MATRICULA</th>\n",
       "    </tr>\n",
       "  </thead>\n",
       "  <tbody>\n",
       "    <tr>\n",
       "      <th>0</th>\n",
       "      <td>2022-07-12T10:06:18.000Z</td>\n",
       "      <td>Palmer -02</td>\n",
       "      <td>10</td>\n",
       "      <td>17</td>\n",
       "      <td>16</td>\n",
       "      <td>0.1500</td>\n",
       "      <td>113.333333</td>\n",
       "      <td>956</td>\n",
       "      <td>002 - Luciene Ildete S. Lopes</td>\n",
       "      <td>00851365493</td>\n",
       "    </tr>\n",
       "    <tr>\n",
       "      <th>1</th>\n",
       "      <td>2022-07-12T10:16:00.000Z</td>\n",
       "      <td>Palmer -02</td>\n",
       "      <td>10</td>\n",
       "      <td>21</td>\n",
       "      <td>17</td>\n",
       "      <td>0.2333</td>\n",
       "      <td>90.000000</td>\n",
       "      <td>956</td>\n",
       "      <td>002 - Luciene Ildete S. Lopes</td>\n",
       "      <td>00851365493</td>\n",
       "    </tr>\n",
       "    <tr>\n",
       "      <th>2</th>\n",
       "      <td>2022-07-12T10:30:34.000Z</td>\n",
       "      <td>Palmer -02</td>\n",
       "      <td>10</td>\n",
       "      <td>23</td>\n",
       "      <td>17</td>\n",
       "      <td>0.2333</td>\n",
       "      <td>98.571429</td>\n",
       "      <td>956</td>\n",
       "      <td>002 - Luciene Ildete S. Lopes</td>\n",
       "      <td>00851365493</td>\n",
       "    </tr>\n",
       "    <tr>\n",
       "      <th>3</th>\n",
       "      <td>2022-07-12T10:45:33.000Z</td>\n",
       "      <td>Palmer -02</td>\n",
       "      <td>10</td>\n",
       "      <td>16</td>\n",
       "      <td>17</td>\n",
       "      <td>0.2333</td>\n",
       "      <td>68.571429</td>\n",
       "      <td>956</td>\n",
       "      <td>002 - Luciene Ildete S. Lopes</td>\n",
       "      <td>00851365493</td>\n",
       "    </tr>\n",
       "    <tr>\n",
       "      <th>4</th>\n",
       "      <td>2022-07-12T11:00:04.000Z</td>\n",
       "      <td>Palmer -02</td>\n",
       "      <td>10</td>\n",
       "      <td>17</td>\n",
       "      <td>17</td>\n",
       "      <td>0.2500</td>\n",
       "      <td>68.000000</td>\n",
       "      <td>956</td>\n",
       "      <td>002 - Luciene Ildete S. Lopes</td>\n",
       "      <td>00851365493</td>\n",
       "    </tr>\n",
       "    <tr>\n",
       "      <th>...</th>\n",
       "      <td>...</td>\n",
       "      <td>...</td>\n",
       "      <td>...</td>\n",
       "      <td>...</td>\n",
       "      <td>...</td>\n",
       "      <td>...</td>\n",
       "      <td>...</td>\n",
       "      <td>...</td>\n",
       "      <td>...</td>\n",
       "      <td>...</td>\n",
       "    </tr>\n",
       "    <tr>\n",
       "      <th>1166</th>\n",
       "      <td>2022-07-12T18:00:15.000Z</td>\n",
       "      <td>Tommy - 30</td>\n",
       "      <td>8</td>\n",
       "      <td>5</td>\n",
       "      <td>16</td>\n",
       "      <td>0.0667</td>\n",
       "      <td>75.000001</td>\n",
       "      <td>1566</td>\n",
       "      <td>249 - Irailde Maria Martins Santos</td>\n",
       "      <td>06156229418</td>\n",
       "    </tr>\n",
       "    <tr>\n",
       "      <th>1167</th>\n",
       "      <td>2022-07-12T18:05:14.000Z</td>\n",
       "      <td>Tommy - 29</td>\n",
       "      <td>7</td>\n",
       "      <td>2</td>\n",
       "      <td>22</td>\n",
       "      <td>0.3000</td>\n",
       "      <td>6.666667</td>\n",
       "      <td>1566</td>\n",
       "      <td>249 - Irailde Maria Martins Santos</td>\n",
       "      <td>06156229418</td>\n",
       "    </tr>\n",
       "    <tr>\n",
       "      <th>1168</th>\n",
       "      <td>2022-07-12T18:23:52.000Z</td>\n",
       "      <td>Tommy - 29</td>\n",
       "      <td>7</td>\n",
       "      <td>15</td>\n",
       "      <td>22</td>\n",
       "      <td>0.7333</td>\n",
       "      <td>20.454545</td>\n",
       "      <td>1566</td>\n",
       "      <td>249 - Irailde Maria Martins Santos</td>\n",
       "      <td>06156229418</td>\n",
       "    </tr>\n",
       "    <tr>\n",
       "      <th>1169</th>\n",
       "      <td>2022-07-12T19:08:49.000Z</td>\n",
       "      <td>Tommy - 30</td>\n",
       "      <td>8</td>\n",
       "      <td>3</td>\n",
       "      <td>16</td>\n",
       "      <td>0.1167</td>\n",
       "      <td>25.714286</td>\n",
       "      <td>1566</td>\n",
       "      <td>249 - Irailde Maria Martins Santos</td>\n",
       "      <td>06156229418</td>\n",
       "    </tr>\n",
       "    <tr>\n",
       "      <th>1170</th>\n",
       "      <td>2022-07-12T19:16:17.000Z</td>\n",
       "      <td>Tommy - 30</td>\n",
       "      <td>8</td>\n",
       "      <td>21</td>\n",
       "      <td>16</td>\n",
       "      <td>0.0500</td>\n",
       "      <td>420.000000</td>\n",
       "      <td>1566</td>\n",
       "      <td>249 - Irailde Maria Martins Santos</td>\n",
       "      <td>06156229418</td>\n",
       "    </tr>\n",
       "  </tbody>\n",
       "</table>\n",
       "<p>1171 rows × 10 columns</p>\n",
       "</div>"
      ],
      "text/plain": [
       "                      LEH_DATA   VARIEDADE CALIBRE  LEH_QUANTIDADE  \\\n",
       "0     2022-07-12T10:06:18.000Z  Palmer -02      10              17   \n",
       "1     2022-07-12T10:16:00.000Z  Palmer -02      10              21   \n",
       "2     2022-07-12T10:30:34.000Z  Palmer -02      10              23   \n",
       "3     2022-07-12T10:45:33.000Z  Palmer -02      10              16   \n",
       "4     2022-07-12T11:00:04.000Z  Palmer -02      10              17   \n",
       "...                        ...         ...     ...             ...   \n",
       "1166  2022-07-12T18:00:15.000Z  Tommy - 30       8               5   \n",
       "1167  2022-07-12T18:05:14.000Z  Tommy - 29       7               2   \n",
       "1168  2022-07-12T18:23:52.000Z  Tommy - 29       7              15   \n",
       "1169  2022-07-12T19:08:49.000Z  Tommy - 30       8               3   \n",
       "1170  2022-07-12T19:16:17.000Z  Tommy - 30       8              21   \n",
       "\n",
       "      LINHAPRODUCAO   HORAS     CX_HORA  ID_PESSOA  \\\n",
       "0                16  0.1500  113.333333        956   \n",
       "1                17  0.2333   90.000000        956   \n",
       "2                17  0.2333   98.571429        956   \n",
       "3                17  0.2333   68.571429        956   \n",
       "4                17  0.2500   68.000000        956   \n",
       "...             ...     ...         ...        ...   \n",
       "1166             16  0.0667   75.000001       1566   \n",
       "1167             22  0.3000    6.666667       1566   \n",
       "1168             22  0.7333   20.454545       1566   \n",
       "1169             16  0.1167   25.714286       1566   \n",
       "1170             16  0.0500  420.000000       1566   \n",
       "\n",
       "                                  PESSOA    MATRICULA  \n",
       "0          002 - Luciene Ildete S. Lopes  00851365493  \n",
       "1          002 - Luciene Ildete S. Lopes  00851365493  \n",
       "2          002 - Luciene Ildete S. Lopes  00851365493  \n",
       "3          002 - Luciene Ildete S. Lopes  00851365493  \n",
       "4          002 - Luciene Ildete S. Lopes  00851365493  \n",
       "...                                  ...          ...  \n",
       "1166  249 - Irailde Maria Martins Santos  06156229418  \n",
       "1167  249 - Irailde Maria Martins Santos  06156229418  \n",
       "1168  249 - Irailde Maria Martins Santos  06156229418  \n",
       "1169  249 - Irailde Maria Martins Santos  06156229418  \n",
       "1170  249 - Irailde Maria Martins Santos  06156229418  \n",
       "\n",
       "[1171 rows x 10 columns]"
      ]
     },
     "execution_count": 658,
     "metadata": {},
     "output_type": "execute_result"
    }
   ],
   "source": [
    "data2 = requests.get(\"http://177.52.21.58:3000/backend/busca_generica/buscaGenericaMYSQLAvilla?sql=CALL%209090agrodan.SP_DX_EMB_PRODUTIVIDADE_RECENTE()\")\n",
    "json_data2 = data2.json()\n",
    "df_piv_3=pd.json_normalize(json_data2)\n",
    "df_piv_3 = pd.DataFrame.from_dict(df_piv_3)\n",
    "\n",
    "dic = df_piv_3[:1]\n",
    "\n",
    "dic = dic.reset_in dex()\n",
    "\n",
    "df_22 = dic.set_index('index').T.to_dict('list')\n",
    "\n",
    "aa = df_22.get(0)\n",
    "\n",
    "df_ = pd.DataFrame.from_dict(aa)\n",
    "df_\n"
   ]
  },
  {
   "cell_type": "code",
   "execution_count": 659,
   "metadata": {},
   "outputs": [],
   "source": [
    "df_['LEH_DATA'] = df_['LEH_DATA'].str.split('.').str[0]"
   ]
  },
  {
   "cell_type": "code",
   "execution_count": 663,
   "metadata": {},
   "outputs": [],
   "source": [
    "df_['DATA'] = df_['LEH_DATA'].str.split('T').str[0]\n",
    "df_['ANO'] = df_['DATA'].str.split('-').str[0]\n",
    "df_['MES'] = df_['DATA'].str.split('-').str[1]\n",
    "df_['DIA'] = df_['DATA'].str.split('-').str[2]"
   ]
  },
  {
   "cell_type": "code",
   "execution_count": 664,
   "metadata": {},
   "outputs": [
    {
     "data": {
      "text/html": [
       "<div>\n",
       "<style scoped>\n",
       "    .dataframe tbody tr th:only-of-type {\n",
       "        vertical-align: middle;\n",
       "    }\n",
       "\n",
       "    .dataframe tbody tr th {\n",
       "        vertical-align: top;\n",
       "    }\n",
       "\n",
       "    .dataframe thead th {\n",
       "        text-align: right;\n",
       "    }\n",
       "</style>\n",
       "<table border=\"1\" class=\"dataframe\">\n",
       "  <thead>\n",
       "    <tr style=\"text-align: right;\">\n",
       "      <th></th>\n",
       "      <th>LEH_DATA</th>\n",
       "      <th>VARIEDADE</th>\n",
       "      <th>CALIBRE</th>\n",
       "      <th>LEH_QUANTIDADE</th>\n",
       "      <th>LINHAPRODUCAO</th>\n",
       "      <th>HORAS</th>\n",
       "      <th>CX_HORA</th>\n",
       "      <th>ID_PESSOA</th>\n",
       "      <th>PESSOA</th>\n",
       "      <th>MATRICULA</th>\n",
       "      <th>DATA</th>\n",
       "      <th>ANO</th>\n",
       "      <th>MES</th>\n",
       "      <th>DIA</th>\n",
       "    </tr>\n",
       "  </thead>\n",
       "  <tbody>\n",
       "    <tr>\n",
       "      <th>0</th>\n",
       "      <td>2022-07-12T10:06:18</td>\n",
       "      <td>Palmer -02</td>\n",
       "      <td>10</td>\n",
       "      <td>17</td>\n",
       "      <td>16</td>\n",
       "      <td>0.1500</td>\n",
       "      <td>113.333333</td>\n",
       "      <td>956</td>\n",
       "      <td>002 - Luciene Ildete S. Lopes</td>\n",
       "      <td>00851365493</td>\n",
       "      <td>2022-07-12</td>\n",
       "      <td>2022</td>\n",
       "      <td>07</td>\n",
       "      <td>12</td>\n",
       "    </tr>\n",
       "    <tr>\n",
       "      <th>1</th>\n",
       "      <td>2022-07-12T10:16:00</td>\n",
       "      <td>Palmer -02</td>\n",
       "      <td>10</td>\n",
       "      <td>21</td>\n",
       "      <td>17</td>\n",
       "      <td>0.2333</td>\n",
       "      <td>90.000000</td>\n",
       "      <td>956</td>\n",
       "      <td>002 - Luciene Ildete S. Lopes</td>\n",
       "      <td>00851365493</td>\n",
       "      <td>2022-07-12</td>\n",
       "      <td>2022</td>\n",
       "      <td>07</td>\n",
       "      <td>12</td>\n",
       "    </tr>\n",
       "    <tr>\n",
       "      <th>2</th>\n",
       "      <td>2022-07-12T10:30:34</td>\n",
       "      <td>Palmer -02</td>\n",
       "      <td>10</td>\n",
       "      <td>23</td>\n",
       "      <td>17</td>\n",
       "      <td>0.2333</td>\n",
       "      <td>98.571429</td>\n",
       "      <td>956</td>\n",
       "      <td>002 - Luciene Ildete S. Lopes</td>\n",
       "      <td>00851365493</td>\n",
       "      <td>2022-07-12</td>\n",
       "      <td>2022</td>\n",
       "      <td>07</td>\n",
       "      <td>12</td>\n",
       "    </tr>\n",
       "    <tr>\n",
       "      <th>3</th>\n",
       "      <td>2022-07-12T10:45:33</td>\n",
       "      <td>Palmer -02</td>\n",
       "      <td>10</td>\n",
       "      <td>16</td>\n",
       "      <td>17</td>\n",
       "      <td>0.2333</td>\n",
       "      <td>68.571429</td>\n",
       "      <td>956</td>\n",
       "      <td>002 - Luciene Ildete S. Lopes</td>\n",
       "      <td>00851365493</td>\n",
       "      <td>2022-07-12</td>\n",
       "      <td>2022</td>\n",
       "      <td>07</td>\n",
       "      <td>12</td>\n",
       "    </tr>\n",
       "    <tr>\n",
       "      <th>4</th>\n",
       "      <td>2022-07-12T11:00:04</td>\n",
       "      <td>Palmer -02</td>\n",
       "      <td>10</td>\n",
       "      <td>17</td>\n",
       "      <td>17</td>\n",
       "      <td>0.2500</td>\n",
       "      <td>68.000000</td>\n",
       "      <td>956</td>\n",
       "      <td>002 - Luciene Ildete S. Lopes</td>\n",
       "      <td>00851365493</td>\n",
       "      <td>2022-07-12</td>\n",
       "      <td>2022</td>\n",
       "      <td>07</td>\n",
       "      <td>12</td>\n",
       "    </tr>\n",
       "    <tr>\n",
       "      <th>...</th>\n",
       "      <td>...</td>\n",
       "      <td>...</td>\n",
       "      <td>...</td>\n",
       "      <td>...</td>\n",
       "      <td>...</td>\n",
       "      <td>...</td>\n",
       "      <td>...</td>\n",
       "      <td>...</td>\n",
       "      <td>...</td>\n",
       "      <td>...</td>\n",
       "      <td>...</td>\n",
       "      <td>...</td>\n",
       "      <td>...</td>\n",
       "      <td>...</td>\n",
       "    </tr>\n",
       "    <tr>\n",
       "      <th>1166</th>\n",
       "      <td>2022-07-12T18:00:15</td>\n",
       "      <td>Tommy - 30</td>\n",
       "      <td>8</td>\n",
       "      <td>5</td>\n",
       "      <td>16</td>\n",
       "      <td>0.0667</td>\n",
       "      <td>75.000001</td>\n",
       "      <td>1566</td>\n",
       "      <td>249 - Irailde Maria Martins Santos</td>\n",
       "      <td>06156229418</td>\n",
       "      <td>2022-07-12</td>\n",
       "      <td>2022</td>\n",
       "      <td>07</td>\n",
       "      <td>12</td>\n",
       "    </tr>\n",
       "    <tr>\n",
       "      <th>1167</th>\n",
       "      <td>2022-07-12T18:05:14</td>\n",
       "      <td>Tommy - 29</td>\n",
       "      <td>7</td>\n",
       "      <td>2</td>\n",
       "      <td>22</td>\n",
       "      <td>0.3000</td>\n",
       "      <td>6.666667</td>\n",
       "      <td>1566</td>\n",
       "      <td>249 - Irailde Maria Martins Santos</td>\n",
       "      <td>06156229418</td>\n",
       "      <td>2022-07-12</td>\n",
       "      <td>2022</td>\n",
       "      <td>07</td>\n",
       "      <td>12</td>\n",
       "    </tr>\n",
       "    <tr>\n",
       "      <th>1168</th>\n",
       "      <td>2022-07-12T18:23:52</td>\n",
       "      <td>Tommy - 29</td>\n",
       "      <td>7</td>\n",
       "      <td>15</td>\n",
       "      <td>22</td>\n",
       "      <td>0.7333</td>\n",
       "      <td>20.454545</td>\n",
       "      <td>1566</td>\n",
       "      <td>249 - Irailde Maria Martins Santos</td>\n",
       "      <td>06156229418</td>\n",
       "      <td>2022-07-12</td>\n",
       "      <td>2022</td>\n",
       "      <td>07</td>\n",
       "      <td>12</td>\n",
       "    </tr>\n",
       "    <tr>\n",
       "      <th>1169</th>\n",
       "      <td>2022-07-12T19:08:49</td>\n",
       "      <td>Tommy - 30</td>\n",
       "      <td>8</td>\n",
       "      <td>3</td>\n",
       "      <td>16</td>\n",
       "      <td>0.1167</td>\n",
       "      <td>25.714286</td>\n",
       "      <td>1566</td>\n",
       "      <td>249 - Irailde Maria Martins Santos</td>\n",
       "      <td>06156229418</td>\n",
       "      <td>2022-07-12</td>\n",
       "      <td>2022</td>\n",
       "      <td>07</td>\n",
       "      <td>12</td>\n",
       "    </tr>\n",
       "    <tr>\n",
       "      <th>1170</th>\n",
       "      <td>2022-07-12T19:16:17</td>\n",
       "      <td>Tommy - 30</td>\n",
       "      <td>8</td>\n",
       "      <td>21</td>\n",
       "      <td>16</td>\n",
       "      <td>0.0500</td>\n",
       "      <td>420.000000</td>\n",
       "      <td>1566</td>\n",
       "      <td>249 - Irailde Maria Martins Santos</td>\n",
       "      <td>06156229418</td>\n",
       "      <td>2022-07-12</td>\n",
       "      <td>2022</td>\n",
       "      <td>07</td>\n",
       "      <td>12</td>\n",
       "    </tr>\n",
       "  </tbody>\n",
       "</table>\n",
       "<p>1171 rows × 14 columns</p>\n",
       "</div>"
      ],
      "text/plain": [
       "                 LEH_DATA   VARIEDADE CALIBRE  LEH_QUANTIDADE  LINHAPRODUCAO  \\\n",
       "0     2022-07-12T10:06:18  Palmer -02      10              17             16   \n",
       "1     2022-07-12T10:16:00  Palmer -02      10              21             17   \n",
       "2     2022-07-12T10:30:34  Palmer -02      10              23             17   \n",
       "3     2022-07-12T10:45:33  Palmer -02      10              16             17   \n",
       "4     2022-07-12T11:00:04  Palmer -02      10              17             17   \n",
       "...                   ...         ...     ...             ...            ...   \n",
       "1166  2022-07-12T18:00:15  Tommy - 30       8               5             16   \n",
       "1167  2022-07-12T18:05:14  Tommy - 29       7               2             22   \n",
       "1168  2022-07-12T18:23:52  Tommy - 29       7              15             22   \n",
       "1169  2022-07-12T19:08:49  Tommy - 30       8               3             16   \n",
       "1170  2022-07-12T19:16:17  Tommy - 30       8              21             16   \n",
       "\n",
       "       HORAS     CX_HORA  ID_PESSOA                              PESSOA  \\\n",
       "0     0.1500  113.333333        956       002 - Luciene Ildete S. Lopes   \n",
       "1     0.2333   90.000000        956       002 - Luciene Ildete S. Lopes   \n",
       "2     0.2333   98.571429        956       002 - Luciene Ildete S. Lopes   \n",
       "3     0.2333   68.571429        956       002 - Luciene Ildete S. Lopes   \n",
       "4     0.2500   68.000000        956       002 - Luciene Ildete S. Lopes   \n",
       "...      ...         ...        ...                                 ...   \n",
       "1166  0.0667   75.000001       1566  249 - Irailde Maria Martins Santos   \n",
       "1167  0.3000    6.666667       1566  249 - Irailde Maria Martins Santos   \n",
       "1168  0.7333   20.454545       1566  249 - Irailde Maria Martins Santos   \n",
       "1169  0.1167   25.714286       1566  249 - Irailde Maria Martins Santos   \n",
       "1170  0.0500  420.000000       1566  249 - Irailde Maria Martins Santos   \n",
       "\n",
       "        MATRICULA        DATA   ANO MES DIA  \n",
       "0     00851365493  2022-07-12  2022  07  12  \n",
       "1     00851365493  2022-07-12  2022  07  12  \n",
       "2     00851365493  2022-07-12  2022  07  12  \n",
       "3     00851365493  2022-07-12  2022  07  12  \n",
       "4     00851365493  2022-07-12  2022  07  12  \n",
       "...           ...         ...   ...  ..  ..  \n",
       "1166  06156229418  2022-07-12  2022  07  12  \n",
       "1167  06156229418  2022-07-12  2022  07  12  \n",
       "1168  06156229418  2022-07-12  2022  07  12  \n",
       "1169  06156229418  2022-07-12  2022  07  12  \n",
       "1170  06156229418  2022-07-12  2022  07  12  \n",
       "\n",
       "[1171 rows x 14 columns]"
      ]
     },
     "execution_count": 664,
     "metadata": {},
     "output_type": "execute_result"
    }
   ],
   "source": [
    "df_"
   ]
  },
  {
   "cell_type": "code",
   "execution_count": null,
   "metadata": {},
   "outputs": [],
   "source": []
  },
  {
   "cell_type": "markdown",
   "metadata": {},
   "source": [
    "WE DID !!!! "
   ]
  },
  {
   "cell_type": "code",
   "execution_count": 596,
   "metadata": {},
   "outputs": [
    {
     "data": {
      "text/plain": [
       "Palmer -02    860\n",
       "Keitt 02 C     64\n",
       "Tommy - 31     59\n",
       "Tommy - 32     47\n",
       "Tommy - 30     41\n",
       "Tommy - 29     23\n",
       "Linha 14        5\n",
       "Name: VARIEDADE, dtype: int64"
      ]
     },
     "execution_count": 596,
     "metadata": {},
     "output_type": "execute_result"
    }
   ],
   "source": [
    "df_.VARIEDADE.value_counts()"
   ]
  },
  {
   "cell_type": "code",
   "execution_count": 597,
   "metadata": {},
   "outputs": [],
   "source": [
    "def correcao_nomes_variedades(df_):\n",
    "    if df_['VARIEDADE'] == 'Tommy - 31' or df_['VARIEDADE'] == 'Tommy - 30' or df_['VARIEDADE'] == 'Tommy - 32' or df_['VARIEDADE'] == 'Tommy - 29':\n",
    "        return 'Tommy Atkins'\n",
    "    elif df_['VARIEDADE'] == 'Palmer -02':\n",
    "        return 'Palmer'\n",
    "    elif df_['VARIEDADE'] == 'Keitt 02 C' or df_['VARIEDADE'] == 'Keitt 02':\n",
    "        return 'Keitt'\n",
    "    else:\n",
    "        return 'NADA'\n",
    "df_['VARIEDADE'] = df_.apply(correcao_nomes_variedades, axis = 1)\n",
    "    "
   ]
  },
  {
   "cell_type": "code",
   "execution_count": 598,
   "metadata": {},
   "outputs": [
    {
     "data": {
      "text/plain": [
       "Palmer          860\n",
       "Tommy Atkins    170\n",
       "Keitt            64\n",
       "NADA              5\n",
       "Name: VARIEDADE, dtype: int64"
      ]
     },
     "execution_count": 598,
     "metadata": {},
     "output_type": "execute_result"
    }
   ],
   "source": [
    "df_.VARIEDADE.value_counts()"
   ]
  },
  {
   "cell_type": "code",
   "execution_count": 599,
   "metadata": {},
   "outputs": [],
   "source": [
    "df_['LEH_DATA'] = df_['LEH_DATA'].str.split('.').str[0]"
   ]
  },
  {
   "cell_type": "code",
   "execution_count": 600,
   "metadata": {},
   "outputs": [],
   "source": [
    "df_['LEH_DATA'] = pd.to_datetime(df_['LEH_DATA'])"
   ]
  },
  {
   "cell_type": "code",
   "execution_count": null,
   "metadata": {},
   "outputs": [],
   "source": []
  },
  {
   "cell_type": "code",
   "execution_count": null,
   "metadata": {},
   "outputs": [],
   "source": []
  },
  {
   "cell_type": "code",
   "execution_count": null,
   "metadata": {},
   "outputs": [],
   "source": []
  }
 ],
 "metadata": {
  "kernelspec": {
   "display_name": "Python 3.7.6 ('base')",
   "language": "python",
   "name": "python3"
  },
  "language_info": {
   "codemirror_mode": {
    "name": "ipython",
    "version": 3
   },
   "file_extension": ".py",
   "mimetype": "text/x-python",
   "name": "python",
   "nbconvert_exporter": "python",
   "pygments_lexer": "ipython3",
   "version": "3.7.6"
  },
  "orig_nbformat": 4,
  "vscode": {
   "interpreter": {
    "hash": "6fb4e67baa9b7257852cae7b6d47456d3e02ef63206ec48e9d8e9ecb07af4702"
   }
  }
 },
 "nbformat": 4,
 "nbformat_minor": 2
}
